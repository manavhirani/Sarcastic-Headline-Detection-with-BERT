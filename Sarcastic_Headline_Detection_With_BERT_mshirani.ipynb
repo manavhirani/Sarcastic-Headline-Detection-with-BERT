{
  "cells": [
    {
      "cell_type": "markdown",
      "metadata": {
        "id": "NFtFwsxNAZ7i"
      },
      "source": [
        "# Sarcastic Headline Detection w/ BERT"
      ]
    },
    {
      "cell_type": "markdown",
      "metadata": {
        "id": "8dU64EGwAZ7k"
      },
      "source": [
        "### Problem"
      ]
    },
    {
      "cell_type": "markdown",
      "metadata": {
        "id": "FglnUfSJAZ7k"
      },
      "source": [
        "In this noteook, I will be predicting if a news headline is sarcasm. This News Headlines dataset for Sarcasm Detection is collected from two news website.   \n",
        "**_The Onion_**, which aims at producing sarcastic versions of current events.   \n",
        "**_The Huffington Post_**, which is a real (non-sarcastic) news outlet.  "
      ]
    },
    {
      "cell_type": "markdown",
      "metadata": {
        "id": "vKxMwY9GAZ7k"
      },
      "source": [
        "### Context\n",
        "\n",
        "- `is_sarcastic`: 1 if the headline is sarcastic, otherwise 0\n",
        "- `headline`: The headline of the news article\n",
        "- `article_link`: The link to the original news article"
      ]
    },
    {
      "cell_type": "markdown",
      "metadata": {
        "id": "W0yO48AVAZ7k"
      },
      "source": [
        "### Models\n",
        "\n",
        "This problem is a binary classification problem where I will be using two models. A baseline of **Naive Bayes** and a more advanced **Deep Neural Network (DNN)** design using **BERT** as a base layer with multiple convolutional and dense layers to predict the sarcastic headlines.\n",
        "\n",
        "For implementing **BERT**, I will be fine-tuning BERT by freezing it's trainable layers and only training the additional layers underneath.\n",
        "\n",
        "*Note: The results from the DNN were trained on two tesla V100 32GB GPU's*"
      ]
    },
    {
      "cell_type": "markdown",
      "metadata": {
        "id": "3ItrPGyPAZ7l"
      },
      "source": [
        "### Measure of success"
      ]
    },
    {
      "cell_type": "markdown",
      "metadata": {
        "id": "IqdWKhMNAZ7l"
      },
      "source": [
        "For this problem, I will define the measure of success by using *accuracy* because the dataset contains almost equal numbers of each predictors."
      ]
    },
    {
      "cell_type": "markdown",
      "metadata": {
        "id": "7i_zJRrZAZ7l"
      },
      "source": [
        "**Number of binary labels**  \n",
        "Not Sarcastic: 29,970  \n",
        "Sarcastic: 25,358"
      ]
    },
    {
      "cell_type": "markdown",
      "metadata": {
        "id": "9ETEGMrFAZ7l"
      },
      "source": [
        "Dataset Link: https://www.kaggle.com/rmisra/news-headlines-dataset-for-sarcasm-detection"
      ]
    },
    {
      "cell_type": "markdown",
      "metadata": {
        "id": "Eps_XFqGAZ7l"
      },
      "source": [
        "**Imports**"
      ]
    },
    {
      "cell_type": "code",
      "execution_count": 1,
      "metadata": {
        "id": "YyOFmRKsAZ7l"
      },
      "outputs": [],
      "source": [
        "# 1. Importing some of the builtin and popular libraries for data science tasks.\n",
        "\n",
        "import numpy as np # NumPy is a useful linear algebra library for Python.\n",
        "import pandas as pd # Pandas is a data manipulation library.\n",
        "import matplotlib.pyplot as plt # Matplotlib is a plotting library.\n",
        "import string # String module contains various string constants.\n",
        "import os # OS module in Python provides functions for interacting with the operating system.\n",
        "from datetime import datetime # The datetime module supplies classes for manipulating dates and times."
      ]
    },
    {
      "cell_type": "code",
      "execution_count": 2,
      "metadata": {
        "id": "x6POeaRZ0h-Q"
      },
      "outputs": [],
      "source": [
        "# 2. Importing some libraries for NLP\n",
        "\n",
        "import tensorflow as tf # TensorFlow is an end-to-end open source platform for machine learning.\n",
        "import tensorflow_hub as hub # TensorFlow Hub is a library for the publication, discovery, and consumption of reusable parts of machine learning models.\n",
        "from keras.utils import np_utils # Keras is a deep learning API written in Python.\n",
        "from tensorflow.keras.callbacks import ModelCheckpoint, ReduceLROnPlateau, EarlyStopping # Callbacks for training and saving the model.\n",
        "\n",
        "# SciKit Learn Libraries: The scikit-learn library is one of the most popular library for general machine learning in Python.\n",
        "from sklearn.model_selection import train_test_split # Split arrays or matrices into random train and test subsets.\n",
        "from sklearn.metrics import classification_report, confusion_matrix # Build a text report showing the main classification metrics and plot a confusion matrix.\n",
        "from sklearn.feature_extraction.text import TfidfVectorizer # Convert a collection of raw documents to a matrix of TF-IDF features.\n",
        "from sklearn.naive_bayes import MultinomialNB # The multinomial Naive Bayes classifier is suitable for classification with discrete features (e.g., word counts for text classification).\n",
        "from sklearn.pipeline import make_pipeline # Construct a Pipeline from the given estimators.\n",
        "from sklearn.model_selection import train_test_split # Split arrays or matrices into random train and test subsets.\n",
        "plt.style.use('ggplot') # Use ggplot style for plotting with matplotlib."
      ]
    },
    {
      "cell_type": "markdown",
      "metadata": {
        "id": "YBseTpU5AZ7m"
      },
      "source": [
        "Enable GPU growth"
      ]
    },
    {
      "cell_type": "code",
      "execution_count": 3,
      "metadata": {
        "colab": {
          "base_uri": "https://localhost:8080/"
        },
        "id": "qvESEc3AAZ7m",
        "outputId": "55543bbe-47c4-47d1-aa0b-d8f1bec9c25a"
      },
      "outputs": [
        {
          "output_type": "stream",
          "name": "stdout",
          "text": [
            "1 Physical GPUs, 1 Logical GPUs\n"
          ]
        }
      ],
      "source": [
        "# 3. The following code is used to check the GPU availability.\n",
        "gpus = tf.config.experimental.list_physical_devices('GPU') # List of Physical GPUs.\n",
        "if gpus: # If there is a GPU.\n",
        "  try:\n",
        "    # Currently, memory growth needs to be the same across GPUs\n",
        "    for gpu in gpus: # For each GPU.\n",
        "      tf.config.experimental.set_memory_growth(gpu, True) # Set memory growth to True.\n",
        "    logical_gpus = tf.config.experimental.list_logical_devices('GPU') # List of Logical GPUs.\n",
        "    print(len(gpus), \"Physical GPUs,\", len(logical_gpus), \"Logical GPUs\") # Print the number of Physical and Logical GPUs.\n",
        "  except RuntimeError as e: # If there is a runtime error then the code will print the error.\n",
        "    # Memory growth must be set before GPUs have been initialized.\n",
        "    print(e) # Print the error."
      ]
    },
    {
      "cell_type": "code",
      "execution_count": 4,
      "metadata": {
        "id": "FcqlDp34f5fJ"
      },
      "outputs": [],
      "source": [
        "# 4. The following code is used to download the dataset from GitHub.\n",
        "# The dataset is available at https://www.kaggle.com/rmisra/news-headlines-dataset-for-sarcasm-detection\n",
        "\n",
        "url1 = \"https://raw.githubusercontent.com/manavhirani/Sarcastic-Headline-Detection-with-BERT/main/data/Sarcasm_Headlines_Dataset.json\" # Replace with your custom URL if needed.\n",
        "# Storing the url of Sarcasm_Headlines_Dataset.json in a variable.\n",
        "url2 = \"https://raw.githubusercontent.com/manavhirani/Sarcastic-Headline-Detection-with-BERT/main/data/Sarcasm_Headlines_Dataset_v2.json\" # Replace with your custom URL if needed.\n",
        "# Storing the url of Sarcasm_Headlines_Dataset_v2.json in a variable.\n",
        "\n",
        "# If you would like to download the dataset from Kaggle to your google drive, then you can use the following code.\n",
        "# from google.colab import drive\n",
        "# drive.mount('/content/drive')\n",
        "# import os\n",
        "# data_dir = '/content/drive/MyDrive/data/'\n",
        "# os.path.exists(data_dir)"
      ]
    },
    {
      "cell_type": "code",
      "execution_count": 5,
      "metadata": {
        "id": "2O4KtOC4AZ7m"
      },
      "outputs": [],
      "source": [
        "# 5. The following code is used to read the dataset from the url.\n",
        "\n",
        "raw_data_1 = pd.read_json(url1, lines=True) # Read the json file from url1.\n",
        "raw_data_2 = pd.read_json(url2, lines=True) # Read the json file from url2.\n",
        "\n",
        "# If you used google drive earlier then use the following code.\n",
        "# raw_data_1 = pd.read_json(data_dir + 'Sarcasm_Headlines_Dataset.json', lines=True)\n",
        "# raw_data_2 = pd.read_json(data_dir + 'Sarcasm_Headlines_Dataset_v2.json', lines=True)"
      ]
    },
    {
      "cell_type": "code",
      "execution_count": 6,
      "metadata": {
        "colab": {
          "base_uri": "https://localhost:8080/",
          "height": 206
        },
        "id": "U0OppBG2AZ7m",
        "outputId": "6bb1e363-e097-46f9-a5f6-1ead9211e1a0"
      },
      "outputs": [
        {
          "output_type": "execute_result",
          "data": {
            "text/plain": [
              "                                        article_link  \\\n",
              "0  https://www.huffingtonpost.com/entry/versace-b...   \n",
              "1  https://www.huffingtonpost.com/entry/roseanne-...   \n",
              "2  https://local.theonion.com/mom-starting-to-fea...   \n",
              "3  https://politics.theonion.com/boehner-just-wan...   \n",
              "4  https://www.huffingtonpost.com/entry/jk-rowlin...   \n",
              "\n",
              "                                            headline  is_sarcastic  \n",
              "0  former versace store clerk sues over secret 'b...             0  \n",
              "1  the 'roseanne' revival catches up to our thorn...             0  \n",
              "2  mom starting to fear son's web series closest ...             1  \n",
              "3  boehner just wants wife to listen, not come up...             1  \n",
              "4  j.k. rowling wishes snape happy birthday in th...             0  "
            ],
            "text/html": [
              "\n",
              "  <div id=\"df-dd219bb3-1da9-40b4-80e4-33424a3d07bf\">\n",
              "    <div class=\"colab-df-container\">\n",
              "      <div>\n",
              "<style scoped>\n",
              "    .dataframe tbody tr th:only-of-type {\n",
              "        vertical-align: middle;\n",
              "    }\n",
              "\n",
              "    .dataframe tbody tr th {\n",
              "        vertical-align: top;\n",
              "    }\n",
              "\n",
              "    .dataframe thead th {\n",
              "        text-align: right;\n",
              "    }\n",
              "</style>\n",
              "<table border=\"1\" class=\"dataframe\">\n",
              "  <thead>\n",
              "    <tr style=\"text-align: right;\">\n",
              "      <th></th>\n",
              "      <th>article_link</th>\n",
              "      <th>headline</th>\n",
              "      <th>is_sarcastic</th>\n",
              "    </tr>\n",
              "  </thead>\n",
              "  <tbody>\n",
              "    <tr>\n",
              "      <th>0</th>\n",
              "      <td>https://www.huffingtonpost.com/entry/versace-b...</td>\n",
              "      <td>former versace store clerk sues over secret 'b...</td>\n",
              "      <td>0</td>\n",
              "    </tr>\n",
              "    <tr>\n",
              "      <th>1</th>\n",
              "      <td>https://www.huffingtonpost.com/entry/roseanne-...</td>\n",
              "      <td>the 'roseanne' revival catches up to our thorn...</td>\n",
              "      <td>0</td>\n",
              "    </tr>\n",
              "    <tr>\n",
              "      <th>2</th>\n",
              "      <td>https://local.theonion.com/mom-starting-to-fea...</td>\n",
              "      <td>mom starting to fear son's web series closest ...</td>\n",
              "      <td>1</td>\n",
              "    </tr>\n",
              "    <tr>\n",
              "      <th>3</th>\n",
              "      <td>https://politics.theonion.com/boehner-just-wan...</td>\n",
              "      <td>boehner just wants wife to listen, not come up...</td>\n",
              "      <td>1</td>\n",
              "    </tr>\n",
              "    <tr>\n",
              "      <th>4</th>\n",
              "      <td>https://www.huffingtonpost.com/entry/jk-rowlin...</td>\n",
              "      <td>j.k. rowling wishes snape happy birthday in th...</td>\n",
              "      <td>0</td>\n",
              "    </tr>\n",
              "  </tbody>\n",
              "</table>\n",
              "</div>\n",
              "      <button class=\"colab-df-convert\" onclick=\"convertToInteractive('df-dd219bb3-1da9-40b4-80e4-33424a3d07bf')\"\n",
              "              title=\"Convert this dataframe to an interactive table.\"\n",
              "              style=\"display:none;\">\n",
              "        \n",
              "  <svg xmlns=\"http://www.w3.org/2000/svg\" height=\"24px\"viewBox=\"0 0 24 24\"\n",
              "       width=\"24px\">\n",
              "    <path d=\"M0 0h24v24H0V0z\" fill=\"none\"/>\n",
              "    <path d=\"M18.56 5.44l.94 2.06.94-2.06 2.06-.94-2.06-.94-.94-2.06-.94 2.06-2.06.94zm-11 1L8.5 8.5l.94-2.06 2.06-.94-2.06-.94L8.5 2.5l-.94 2.06-2.06.94zm10 10l.94 2.06.94-2.06 2.06-.94-2.06-.94-.94-2.06-.94 2.06-2.06.94z\"/><path d=\"M17.41 7.96l-1.37-1.37c-.4-.4-.92-.59-1.43-.59-.52 0-1.04.2-1.43.59L10.3 9.45l-7.72 7.72c-.78.78-.78 2.05 0 2.83L4 21.41c.39.39.9.59 1.41.59.51 0 1.02-.2 1.41-.59l7.78-7.78 2.81-2.81c.8-.78.8-2.07 0-2.86zM5.41 20L4 18.59l7.72-7.72 1.47 1.35L5.41 20z\"/>\n",
              "  </svg>\n",
              "      </button>\n",
              "      \n",
              "  <style>\n",
              "    .colab-df-container {\n",
              "      display:flex;\n",
              "      flex-wrap:wrap;\n",
              "      gap: 12px;\n",
              "    }\n",
              "\n",
              "    .colab-df-convert {\n",
              "      background-color: #E8F0FE;\n",
              "      border: none;\n",
              "      border-radius: 50%;\n",
              "      cursor: pointer;\n",
              "      display: none;\n",
              "      fill: #1967D2;\n",
              "      height: 32px;\n",
              "      padding: 0 0 0 0;\n",
              "      width: 32px;\n",
              "    }\n",
              "\n",
              "    .colab-df-convert:hover {\n",
              "      background-color: #E2EBFA;\n",
              "      box-shadow: 0px 1px 2px rgba(60, 64, 67, 0.3), 0px 1px 3px 1px rgba(60, 64, 67, 0.15);\n",
              "      fill: #174EA6;\n",
              "    }\n",
              "\n",
              "    [theme=dark] .colab-df-convert {\n",
              "      background-color: #3B4455;\n",
              "      fill: #D2E3FC;\n",
              "    }\n",
              "\n",
              "    [theme=dark] .colab-df-convert:hover {\n",
              "      background-color: #434B5C;\n",
              "      box-shadow: 0px 1px 3px 1px rgba(0, 0, 0, 0.15);\n",
              "      filter: drop-shadow(0px 1px 2px rgba(0, 0, 0, 0.3));\n",
              "      fill: #FFFFFF;\n",
              "    }\n",
              "  </style>\n",
              "\n",
              "      <script>\n",
              "        const buttonEl =\n",
              "          document.querySelector('#df-dd219bb3-1da9-40b4-80e4-33424a3d07bf button.colab-df-convert');\n",
              "        buttonEl.style.display =\n",
              "          google.colab.kernel.accessAllowed ? 'block' : 'none';\n",
              "\n",
              "        async function convertToInteractive(key) {\n",
              "          const element = document.querySelector('#df-dd219bb3-1da9-40b4-80e4-33424a3d07bf');\n",
              "          const dataTable =\n",
              "            await google.colab.kernel.invokeFunction('convertToInteractive',\n",
              "                                                     [key], {});\n",
              "          if (!dataTable) return;\n",
              "\n",
              "          const docLinkHtml = 'Like what you see? Visit the ' +\n",
              "            '<a target=\"_blank\" href=https://colab.research.google.com/notebooks/data_table.ipynb>data table notebook</a>'\n",
              "            + ' to learn more about interactive tables.';\n",
              "          element.innerHTML = '';\n",
              "          dataTable['output_type'] = 'display_data';\n",
              "          await google.colab.output.renderOutput(dataTable, element);\n",
              "          const docLink = document.createElement('div');\n",
              "          docLink.innerHTML = docLinkHtml;\n",
              "          element.appendChild(docLink);\n",
              "        }\n",
              "      </script>\n",
              "    </div>\n",
              "  </div>\n",
              "  "
            ]
          },
          "metadata": {},
          "execution_count": 6
        }
      ],
      "source": [
        "# 6. Viewing the first dataset.\n",
        "\n",
        "raw_data_1.head() # Print the first few rows of raw_data_1."
      ]
    },
    {
      "cell_type": "code",
      "execution_count": 7,
      "metadata": {
        "colab": {
          "base_uri": "https://localhost:8080/",
          "height": 206
        },
        "id": "3Ql5mgEKAZ7n",
        "outputId": "ebb92622-72d0-4681-eb1e-78abad630f22"
      },
      "outputs": [
        {
          "output_type": "execute_result",
          "data": {
            "text/plain": [
              "   is_sarcastic                                           headline  \\\n",
              "0             1  thirtysomething scientists unveil doomsday clo...   \n",
              "1             0  dem rep. totally nails why congress is falling...   \n",
              "2             0  eat your veggies: 9 deliciously different recipes   \n",
              "3             1  inclement weather prevents liar from getting t...   \n",
              "4             1  mother comes pretty close to using word 'strea...   \n",
              "\n",
              "                                        article_link  \n",
              "0  https://www.theonion.com/thirtysomething-scien...  \n",
              "1  https://www.huffingtonpost.com/entry/donna-edw...  \n",
              "2  https://www.huffingtonpost.com/entry/eat-your-...  \n",
              "3  https://local.theonion.com/inclement-weather-p...  \n",
              "4  https://www.theonion.com/mother-comes-pretty-c...  "
            ],
            "text/html": [
              "\n",
              "  <div id=\"df-f2426b33-594a-4310-a4db-b6d19600be85\">\n",
              "    <div class=\"colab-df-container\">\n",
              "      <div>\n",
              "<style scoped>\n",
              "    .dataframe tbody tr th:only-of-type {\n",
              "        vertical-align: middle;\n",
              "    }\n",
              "\n",
              "    .dataframe tbody tr th {\n",
              "        vertical-align: top;\n",
              "    }\n",
              "\n",
              "    .dataframe thead th {\n",
              "        text-align: right;\n",
              "    }\n",
              "</style>\n",
              "<table border=\"1\" class=\"dataframe\">\n",
              "  <thead>\n",
              "    <tr style=\"text-align: right;\">\n",
              "      <th></th>\n",
              "      <th>is_sarcastic</th>\n",
              "      <th>headline</th>\n",
              "      <th>article_link</th>\n",
              "    </tr>\n",
              "  </thead>\n",
              "  <tbody>\n",
              "    <tr>\n",
              "      <th>0</th>\n",
              "      <td>1</td>\n",
              "      <td>thirtysomething scientists unveil doomsday clo...</td>\n",
              "      <td>https://www.theonion.com/thirtysomething-scien...</td>\n",
              "    </tr>\n",
              "    <tr>\n",
              "      <th>1</th>\n",
              "      <td>0</td>\n",
              "      <td>dem rep. totally nails why congress is falling...</td>\n",
              "      <td>https://www.huffingtonpost.com/entry/donna-edw...</td>\n",
              "    </tr>\n",
              "    <tr>\n",
              "      <th>2</th>\n",
              "      <td>0</td>\n",
              "      <td>eat your veggies: 9 deliciously different recipes</td>\n",
              "      <td>https://www.huffingtonpost.com/entry/eat-your-...</td>\n",
              "    </tr>\n",
              "    <tr>\n",
              "      <th>3</th>\n",
              "      <td>1</td>\n",
              "      <td>inclement weather prevents liar from getting t...</td>\n",
              "      <td>https://local.theonion.com/inclement-weather-p...</td>\n",
              "    </tr>\n",
              "    <tr>\n",
              "      <th>4</th>\n",
              "      <td>1</td>\n",
              "      <td>mother comes pretty close to using word 'strea...</td>\n",
              "      <td>https://www.theonion.com/mother-comes-pretty-c...</td>\n",
              "    </tr>\n",
              "  </tbody>\n",
              "</table>\n",
              "</div>\n",
              "      <button class=\"colab-df-convert\" onclick=\"convertToInteractive('df-f2426b33-594a-4310-a4db-b6d19600be85')\"\n",
              "              title=\"Convert this dataframe to an interactive table.\"\n",
              "              style=\"display:none;\">\n",
              "        \n",
              "  <svg xmlns=\"http://www.w3.org/2000/svg\" height=\"24px\"viewBox=\"0 0 24 24\"\n",
              "       width=\"24px\">\n",
              "    <path d=\"M0 0h24v24H0V0z\" fill=\"none\"/>\n",
              "    <path d=\"M18.56 5.44l.94 2.06.94-2.06 2.06-.94-2.06-.94-.94-2.06-.94 2.06-2.06.94zm-11 1L8.5 8.5l.94-2.06 2.06-.94-2.06-.94L8.5 2.5l-.94 2.06-2.06.94zm10 10l.94 2.06.94-2.06 2.06-.94-2.06-.94-.94-2.06-.94 2.06-2.06.94z\"/><path d=\"M17.41 7.96l-1.37-1.37c-.4-.4-.92-.59-1.43-.59-.52 0-1.04.2-1.43.59L10.3 9.45l-7.72 7.72c-.78.78-.78 2.05 0 2.83L4 21.41c.39.39.9.59 1.41.59.51 0 1.02-.2 1.41-.59l7.78-7.78 2.81-2.81c.8-.78.8-2.07 0-2.86zM5.41 20L4 18.59l7.72-7.72 1.47 1.35L5.41 20z\"/>\n",
              "  </svg>\n",
              "      </button>\n",
              "      \n",
              "  <style>\n",
              "    .colab-df-container {\n",
              "      display:flex;\n",
              "      flex-wrap:wrap;\n",
              "      gap: 12px;\n",
              "    }\n",
              "\n",
              "    .colab-df-convert {\n",
              "      background-color: #E8F0FE;\n",
              "      border: none;\n",
              "      border-radius: 50%;\n",
              "      cursor: pointer;\n",
              "      display: none;\n",
              "      fill: #1967D2;\n",
              "      height: 32px;\n",
              "      padding: 0 0 0 0;\n",
              "      width: 32px;\n",
              "    }\n",
              "\n",
              "    .colab-df-convert:hover {\n",
              "      background-color: #E2EBFA;\n",
              "      box-shadow: 0px 1px 2px rgba(60, 64, 67, 0.3), 0px 1px 3px 1px rgba(60, 64, 67, 0.15);\n",
              "      fill: #174EA6;\n",
              "    }\n",
              "\n",
              "    [theme=dark] .colab-df-convert {\n",
              "      background-color: #3B4455;\n",
              "      fill: #D2E3FC;\n",
              "    }\n",
              "\n",
              "    [theme=dark] .colab-df-convert:hover {\n",
              "      background-color: #434B5C;\n",
              "      box-shadow: 0px 1px 3px 1px rgba(0, 0, 0, 0.15);\n",
              "      filter: drop-shadow(0px 1px 2px rgba(0, 0, 0, 0.3));\n",
              "      fill: #FFFFFF;\n",
              "    }\n",
              "  </style>\n",
              "\n",
              "      <script>\n",
              "        const buttonEl =\n",
              "          document.querySelector('#df-f2426b33-594a-4310-a4db-b6d19600be85 button.colab-df-convert');\n",
              "        buttonEl.style.display =\n",
              "          google.colab.kernel.accessAllowed ? 'block' : 'none';\n",
              "\n",
              "        async function convertToInteractive(key) {\n",
              "          const element = document.querySelector('#df-f2426b33-594a-4310-a4db-b6d19600be85');\n",
              "          const dataTable =\n",
              "            await google.colab.kernel.invokeFunction('convertToInteractive',\n",
              "                                                     [key], {});\n",
              "          if (!dataTable) return;\n",
              "\n",
              "          const docLinkHtml = 'Like what you see? Visit the ' +\n",
              "            '<a target=\"_blank\" href=https://colab.research.google.com/notebooks/data_table.ipynb>data table notebook</a>'\n",
              "            + ' to learn more about interactive tables.';\n",
              "          element.innerHTML = '';\n",
              "          dataTable['output_type'] = 'display_data';\n",
              "          await google.colab.output.renderOutput(dataTable, element);\n",
              "          const docLink = document.createElement('div');\n",
              "          docLink.innerHTML = docLinkHtml;\n",
              "          element.appendChild(docLink);\n",
              "        }\n",
              "      </script>\n",
              "    </div>\n",
              "  </div>\n",
              "  "
            ]
          },
          "metadata": {},
          "execution_count": 7
        }
      ],
      "source": [
        "# 7. Viewing the second dataset.\n",
        "\n",
        "raw_data_2.head() # Print the first few rows of raw_data_2."
      ]
    },
    {
      "cell_type": "code",
      "execution_count": 8,
      "metadata": {
        "colab": {
          "base_uri": "https://localhost:8080/"
        },
        "id": "syj99J8NAZ7n",
        "outputId": "30e194b6-8081-43c2-ad11-ef4508594e9a"
      },
      "outputs": [
        {
          "output_type": "stream",
          "name": "stdout",
          "text": [
            "Dataset 1 has 26709 columns and 3 rows\n",
            "Dataset 2 has 28619 columns and 3 rows\n"
          ]
        }
      ],
      "source": [
        "# 8. The following code is used to check the shape of the dataset including the number of rows and columns.\n",
        "\n",
        "print('Dataset 1 has {} columns and {} rows'.format(raw_data_1.shape[0], raw_data_1.shape[1])) # Print the shape of raw_data_1.\n",
        "print('Dataset 2 has {} columns and {} rows'.format(raw_data_2.shape[0], raw_data_2.shape[1])) # Print the shape of raw_data_2."
      ]
    },
    {
      "cell_type": "markdown",
      "metadata": {
        "id": "ZTtFu7oUAZ7n"
      },
      "source": [
        "Join both together"
      ]
    },
    {
      "cell_type": "code",
      "execution_count": 9,
      "metadata": {
        "id": "SlLyWXjuAZ7n"
      },
      "outputs": [],
      "source": [
        "# 9. The following code is used to concatenate the two datasets.\n",
        "\n",
        "complete_data_raw = pd.concat([raw_data_1, raw_data_2]).reset_index(drop=True).copy() # Concatenate the two datasets."
      ]
    },
    {
      "cell_type": "code",
      "execution_count": 10,
      "metadata": {
        "colab": {
          "base_uri": "https://localhost:8080/",
          "height": 206
        },
        "id": "9AqkGWULAZ7n",
        "outputId": "6eda092d-3f6c-4d34-82ce-06fc87e4a1ed"
      },
      "outputs": [
        {
          "output_type": "execute_result",
          "data": {
            "text/plain": [
              "                                        article_link  \\\n",
              "0  https://www.huffingtonpost.com/entry/versace-b...   \n",
              "1  https://www.huffingtonpost.com/entry/roseanne-...   \n",
              "2  https://local.theonion.com/mom-starting-to-fea...   \n",
              "3  https://politics.theonion.com/boehner-just-wan...   \n",
              "4  https://www.huffingtonpost.com/entry/jk-rowlin...   \n",
              "\n",
              "                                            headline  is_sarcastic  \n",
              "0  former versace store clerk sues over secret 'b...             0  \n",
              "1  the 'roseanne' revival catches up to our thorn...             0  \n",
              "2  mom starting to fear son's web series closest ...             1  \n",
              "3  boehner just wants wife to listen, not come up...             1  \n",
              "4  j.k. rowling wishes snape happy birthday in th...             0  "
            ],
            "text/html": [
              "\n",
              "  <div id=\"df-8c6b1fbe-696e-4386-8fa4-4e631e679bfb\">\n",
              "    <div class=\"colab-df-container\">\n",
              "      <div>\n",
              "<style scoped>\n",
              "    .dataframe tbody tr th:only-of-type {\n",
              "        vertical-align: middle;\n",
              "    }\n",
              "\n",
              "    .dataframe tbody tr th {\n",
              "        vertical-align: top;\n",
              "    }\n",
              "\n",
              "    .dataframe thead th {\n",
              "        text-align: right;\n",
              "    }\n",
              "</style>\n",
              "<table border=\"1\" class=\"dataframe\">\n",
              "  <thead>\n",
              "    <tr style=\"text-align: right;\">\n",
              "      <th></th>\n",
              "      <th>article_link</th>\n",
              "      <th>headline</th>\n",
              "      <th>is_sarcastic</th>\n",
              "    </tr>\n",
              "  </thead>\n",
              "  <tbody>\n",
              "    <tr>\n",
              "      <th>0</th>\n",
              "      <td>https://www.huffingtonpost.com/entry/versace-b...</td>\n",
              "      <td>former versace store clerk sues over secret 'b...</td>\n",
              "      <td>0</td>\n",
              "    </tr>\n",
              "    <tr>\n",
              "      <th>1</th>\n",
              "      <td>https://www.huffingtonpost.com/entry/roseanne-...</td>\n",
              "      <td>the 'roseanne' revival catches up to our thorn...</td>\n",
              "      <td>0</td>\n",
              "    </tr>\n",
              "    <tr>\n",
              "      <th>2</th>\n",
              "      <td>https://local.theonion.com/mom-starting-to-fea...</td>\n",
              "      <td>mom starting to fear son's web series closest ...</td>\n",
              "      <td>1</td>\n",
              "    </tr>\n",
              "    <tr>\n",
              "      <th>3</th>\n",
              "      <td>https://politics.theonion.com/boehner-just-wan...</td>\n",
              "      <td>boehner just wants wife to listen, not come up...</td>\n",
              "      <td>1</td>\n",
              "    </tr>\n",
              "    <tr>\n",
              "      <th>4</th>\n",
              "      <td>https://www.huffingtonpost.com/entry/jk-rowlin...</td>\n",
              "      <td>j.k. rowling wishes snape happy birthday in th...</td>\n",
              "      <td>0</td>\n",
              "    </tr>\n",
              "  </tbody>\n",
              "</table>\n",
              "</div>\n",
              "      <button class=\"colab-df-convert\" onclick=\"convertToInteractive('df-8c6b1fbe-696e-4386-8fa4-4e631e679bfb')\"\n",
              "              title=\"Convert this dataframe to an interactive table.\"\n",
              "              style=\"display:none;\">\n",
              "        \n",
              "  <svg xmlns=\"http://www.w3.org/2000/svg\" height=\"24px\"viewBox=\"0 0 24 24\"\n",
              "       width=\"24px\">\n",
              "    <path d=\"M0 0h24v24H0V0z\" fill=\"none\"/>\n",
              "    <path d=\"M18.56 5.44l.94 2.06.94-2.06 2.06-.94-2.06-.94-.94-2.06-.94 2.06-2.06.94zm-11 1L8.5 8.5l.94-2.06 2.06-.94-2.06-.94L8.5 2.5l-.94 2.06-2.06.94zm10 10l.94 2.06.94-2.06 2.06-.94-2.06-.94-.94-2.06-.94 2.06-2.06.94z\"/><path d=\"M17.41 7.96l-1.37-1.37c-.4-.4-.92-.59-1.43-.59-.52 0-1.04.2-1.43.59L10.3 9.45l-7.72 7.72c-.78.78-.78 2.05 0 2.83L4 21.41c.39.39.9.59 1.41.59.51 0 1.02-.2 1.41-.59l7.78-7.78 2.81-2.81c.8-.78.8-2.07 0-2.86zM5.41 20L4 18.59l7.72-7.72 1.47 1.35L5.41 20z\"/>\n",
              "  </svg>\n",
              "      </button>\n",
              "      \n",
              "  <style>\n",
              "    .colab-df-container {\n",
              "      display:flex;\n",
              "      flex-wrap:wrap;\n",
              "      gap: 12px;\n",
              "    }\n",
              "\n",
              "    .colab-df-convert {\n",
              "      background-color: #E8F0FE;\n",
              "      border: none;\n",
              "      border-radius: 50%;\n",
              "      cursor: pointer;\n",
              "      display: none;\n",
              "      fill: #1967D2;\n",
              "      height: 32px;\n",
              "      padding: 0 0 0 0;\n",
              "      width: 32px;\n",
              "    }\n",
              "\n",
              "    .colab-df-convert:hover {\n",
              "      background-color: #E2EBFA;\n",
              "      box-shadow: 0px 1px 2px rgba(60, 64, 67, 0.3), 0px 1px 3px 1px rgba(60, 64, 67, 0.15);\n",
              "      fill: #174EA6;\n",
              "    }\n",
              "\n",
              "    [theme=dark] .colab-df-convert {\n",
              "      background-color: #3B4455;\n",
              "      fill: #D2E3FC;\n",
              "    }\n",
              "\n",
              "    [theme=dark] .colab-df-convert:hover {\n",
              "      background-color: #434B5C;\n",
              "      box-shadow: 0px 1px 3px 1px rgba(0, 0, 0, 0.15);\n",
              "      filter: drop-shadow(0px 1px 2px rgba(0, 0, 0, 0.3));\n",
              "      fill: #FFFFFF;\n",
              "    }\n",
              "  </style>\n",
              "\n",
              "      <script>\n",
              "        const buttonEl =\n",
              "          document.querySelector('#df-8c6b1fbe-696e-4386-8fa4-4e631e679bfb button.colab-df-convert');\n",
              "        buttonEl.style.display =\n",
              "          google.colab.kernel.accessAllowed ? 'block' : 'none';\n",
              "\n",
              "        async function convertToInteractive(key) {\n",
              "          const element = document.querySelector('#df-8c6b1fbe-696e-4386-8fa4-4e631e679bfb');\n",
              "          const dataTable =\n",
              "            await google.colab.kernel.invokeFunction('convertToInteractive',\n",
              "                                                     [key], {});\n",
              "          if (!dataTable) return;\n",
              "\n",
              "          const docLinkHtml = 'Like what you see? Visit the ' +\n",
              "            '<a target=\"_blank\" href=https://colab.research.google.com/notebooks/data_table.ipynb>data table notebook</a>'\n",
              "            + ' to learn more about interactive tables.';\n",
              "          element.innerHTML = '';\n",
              "          dataTable['output_type'] = 'display_data';\n",
              "          await google.colab.output.renderOutput(dataTable, element);\n",
              "          const docLink = document.createElement('div');\n",
              "          docLink.innerHTML = docLinkHtml;\n",
              "          element.appendChild(docLink);\n",
              "        }\n",
              "      </script>\n",
              "    </div>\n",
              "  </div>\n",
              "  "
            ]
          },
          "metadata": {},
          "execution_count": 10
        }
      ],
      "source": [
        "# 10. Viewing the combined dataset.\n",
        "\n",
        "complete_data_raw.head() # Print the first few rows of complete_data_raw."
      ]
    },
    {
      "cell_type": "code",
      "execution_count": 11,
      "metadata": {
        "colab": {
          "base_uri": "https://localhost:8080/"
        },
        "id": "YAZ244REAZ7n",
        "outputId": "2273c176-b445-4f1b-bb30-19eaa5c3ffd2"
      },
      "outputs": [
        {
          "output_type": "execute_result",
          "data": {
            "text/plain": [
              "(55328, 3)"
            ]
          },
          "metadata": {},
          "execution_count": 11
        }
      ],
      "source": [
        "# 11. The following code is used to check the shape of the combined dataset.\n",
        "complete_data_raw.shape # Print the shape of complete_data_raw."
      ]
    },
    {
      "cell_type": "markdown",
      "metadata": {
        "id": "ofz6dxIaAZ7n"
      },
      "source": [
        "There are 55,328 total rows in the dataset"
      ]
    },
    {
      "cell_type": "code",
      "execution_count": 12,
      "metadata": {
        "id": "ZvW60PtxAZ7n",
        "scrolled": false
      },
      "outputs": [],
      "source": [
        "# 12. The following code is used to find the number of sarcastic and non-sarcastic headlines.\n",
        "num_sarcastic = complete_data_raw['is_sarcastic'].value_counts()[1] # Number of sarcastic headlines.\n",
        "num_not_sarcastic = complete_data_raw['is_sarcastic'].value_counts()[0] # Number of non-sarcastic headlines."
      ]
    },
    {
      "cell_type": "code",
      "execution_count": 13,
      "metadata": {
        "colab": {
          "base_uri": "https://localhost:8080/",
          "height": 453
        },
        "id": "58ajdvop0h-T",
        "outputId": "c2349997-64e2-4982-f119-9b3e0d08bc24"
      },
      "outputs": [
        {
          "output_type": "display_data",
          "data": {
            "text/plain": [
              "<Figure size 640x480 with 1 Axes>"
            ],
            "image/png": "[encoded data removed]"
          },
          "metadata": {}
        }
      ],
      "source": [
        "# 13. The following code is used to plot the number of sarcastic and non-sarcastic headlines.\n",
        "\n",
        "complete_data_raw['is_sarcastic'].value_counts().plot(kind='bar') # Plot the number of sarcastic and non-sarcastic headlines.\n",
        "plt.xticks([0,1], ['Not Sarcastic', 'Sarcastic'], rotation=0) # Set the xticks.\n",
        "plt.title('Sarcastic Counts {:.2f}%'.format((num_sarcastic / (num_sarcastic + num_not_sarcastic)*100))); # Set the title."
      ]
    },
    {
      "cell_type": "markdown",
      "metadata": {
        "id": "Y3zbtVHsAZ7o"
      },
      "source": [
        "Overall, this dataset is fairly balanced"
      ]
    },
    {
      "cell_type": "markdown",
      "metadata": {
        "id": "plPOneaWAZ7o"
      },
      "source": [
        "**Pre-processing**"
      ]
    },
    {
      "cell_type": "markdown",
      "metadata": {
        "id": "qV80DkE1AZ7o"
      },
      "source": [
        "For pre-processing the data, I will only be removing the punctuations and capitalizations in order to preserve as much of the original headlines as possible"
      ]
    },
    {
      "cell_type": "code",
      "execution_count": 14,
      "metadata": {
        "id": "d3imbQBDAZ7o"
      },
      "outputs": [],
      "source": [
        "# 14. Copy the original data\n",
        "complete_data_preprocessed = complete_data_raw.copy() # Copy the original data to complete_data_preprocessed."
      ]
    },
    {
      "cell_type": "code",
      "execution_count": 15,
      "metadata": {
        "id": "hifS4lNQ0h-U"
      },
      "outputs": [],
      "source": [
        "# 15. The following code will lowercase the headline column.\n",
        "complete_data_preprocessed['headline'] = complete_data_preprocessed['headline'].str.lower() # Lowercase the headline column."
      ]
    },
    {
      "cell_type": "code",
      "execution_count": 16,
      "metadata": {
        "id": "CV3nXlK10h-U"
      },
      "outputs": [],
      "source": [
        "# 16. The following code will remove punctuations from the headline column.\n",
        "\n",
        "def remove_punctuations(text): # Define a function to remove punctuations.\n",
        "    for punctuation in string.punctuation: # For each punctuation, string.punctuation contains all the common punctuations in English.\n",
        "        text = text.replace(punctuation, '') # Replace the punctuation with an empty string.\n",
        "    return text # Return the text.\n",
        "\n",
        "complete_data_preprocessed['headline'] = complete_data_preprocessed['headline'].apply(remove_punctuations) # Apply the remove_punctuations function to the headline column as a lambda function."
      ]
    },
    {
      "cell_type": "code",
      "execution_count": 17,
      "metadata": {
        "colab": {
          "base_uri": "https://localhost:8080/",
          "height": 206
        },
        "id": "kFqHVUoBAZ7o",
        "outputId": "8c3b0bef-c6d7-4ec1-c58e-23fcf42e3a22"
      },
      "outputs": [
        {
          "output_type": "execute_result",
          "data": {
            "text/plain": [
              "                                        article_link  \\\n",
              "0  https://www.huffingtonpost.com/entry/versace-b...   \n",
              "1  https://www.huffingtonpost.com/entry/roseanne-...   \n",
              "2  https://local.theonion.com/mom-starting-to-fea...   \n",
              "3  https://politics.theonion.com/boehner-just-wan...   \n",
              "4  https://www.huffingtonpost.com/entry/jk-rowlin...   \n",
              "\n",
              "                                            headline  is_sarcastic  \n",
              "0  former versace store clerk sues over secret bl...             0  \n",
              "1  the roseanne revival catches up to our thorny ...             0  \n",
              "2  mom starting to fear sons web series closest t...             1  \n",
              "3  boehner just wants wife to listen not come up ...             1  \n",
              "4  jk rowling wishes snape happy birthday in the ...             0  "
            ],
            "text/html": [
              "\n",
              "  <div id=\"df-940b02ed-3246-402d-96d7-76bab3e4e1ef\">\n",
              "    <div class=\"colab-df-container\">\n",
              "      <div>\n",
              "<style scoped>\n",
              "    .dataframe tbody tr th:only-of-type {\n",
              "        vertical-align: middle;\n",
              "    }\n",
              "\n",
              "    .dataframe tbody tr th {\n",
              "        vertical-align: top;\n",
              "    }\n",
              "\n",
              "    .dataframe thead th {\n",
              "        text-align: right;\n",
              "    }\n",
              "</style>\n",
              "<table border=\"1\" class=\"dataframe\">\n",
              "  <thead>\n",
              "    <tr style=\"text-align: right;\">\n",
              "      <th></th>\n",
              "      <th>article_link</th>\n",
              "      <th>headline</th>\n",
              "      <th>is_sarcastic</th>\n",
              "    </tr>\n",
              "  </thead>\n",
              "  <tbody>\n",
              "    <tr>\n",
              "      <th>0</th>\n",
              "      <td>https://www.huffingtonpost.com/entry/versace-b...</td>\n",
              "      <td>former versace store clerk sues over secret bl...</td>\n",
              "      <td>0</td>\n",
              "    </tr>\n",
              "    <tr>\n",
              "      <th>1</th>\n",
              "      <td>https://www.huffingtonpost.com/entry/roseanne-...</td>\n",
              "      <td>the roseanne revival catches up to our thorny ...</td>\n",
              "      <td>0</td>\n",
              "    </tr>\n",
              "    <tr>\n",
              "      <th>2</th>\n",
              "      <td>https://local.theonion.com/mom-starting-to-fea...</td>\n",
              "      <td>mom starting to fear sons web series closest t...</td>\n",
              "      <td>1</td>\n",
              "    </tr>\n",
              "    <tr>\n",
              "      <th>3</th>\n",
              "      <td>https://politics.theonion.com/boehner-just-wan...</td>\n",
              "      <td>boehner just wants wife to listen not come up ...</td>\n",
              "      <td>1</td>\n",
              "    </tr>\n",
              "    <tr>\n",
              "      <th>4</th>\n",
              "      <td>https://www.huffingtonpost.com/entry/jk-rowlin...</td>\n",
              "      <td>jk rowling wishes snape happy birthday in the ...</td>\n",
              "      <td>0</td>\n",
              "    </tr>\n",
              "  </tbody>\n",
              "</table>\n",
              "</div>\n",
              "      <button class=\"colab-df-convert\" onclick=\"convertToInteractive('df-940b02ed-3246-402d-96d7-76bab3e4e1ef')\"\n",
              "              title=\"Convert this dataframe to an interactive table.\"\n",
              "              style=\"display:none;\">\n",
              "        \n",
              "  <svg xmlns=\"http://www.w3.org/2000/svg\" height=\"24px\"viewBox=\"0 0 24 24\"\n",
              "       width=\"24px\">\n",
              "    <path d=\"M0 0h24v24H0V0z\" fill=\"none\"/>\n",
              "    <path d=\"M18.56 5.44l.94 2.06.94-2.06 2.06-.94-2.06-.94-.94-2.06-.94 2.06-2.06.94zm-11 1L8.5 8.5l.94-2.06 2.06-.94-2.06-.94L8.5 2.5l-.94 2.06-2.06.94zm10 10l.94 2.06.94-2.06 2.06-.94-2.06-.94-.94-2.06-.94 2.06-2.06.94z\"/><path d=\"M17.41 7.96l-1.37-1.37c-.4-.4-.92-.59-1.43-.59-.52 0-1.04.2-1.43.59L10.3 9.45l-7.72 7.72c-.78.78-.78 2.05 0 2.83L4 21.41c.39.39.9.59 1.41.59.51 0 1.02-.2 1.41-.59l7.78-7.78 2.81-2.81c.8-.78.8-2.07 0-2.86zM5.41 20L4 18.59l7.72-7.72 1.47 1.35L5.41 20z\"/>\n",
              "  </svg>\n",
              "      </button>\n",
              "      \n",
              "  <style>\n",
              "    .colab-df-container {\n",
              "      display:flex;\n",
              "      flex-wrap:wrap;\n",
              "      gap: 12px;\n",
              "    }\n",
              "\n",
              "    .colab-df-convert {\n",
              "      background-color: #E8F0FE;\n",
              "      border: none;\n",
              "      border-radius: 50%;\n",
              "      cursor: pointer;\n",
              "      display: none;\n",
              "      fill: #1967D2;\n",
              "      height: 32px;\n",
              "      padding: 0 0 0 0;\n",
              "      width: 32px;\n",
              "    }\n",
              "\n",
              "    .colab-df-convert:hover {\n",
              "      background-color: #E2EBFA;\n",
              "      box-shadow: 0px 1px 2px rgba(60, 64, 67, 0.3), 0px 1px 3px 1px rgba(60, 64, 67, 0.15);\n",
              "      fill: #174EA6;\n",
              "    }\n",
              "\n",
              "    [theme=dark] .colab-df-convert {\n",
              "      background-color: #3B4455;\n",
              "      fill: #D2E3FC;\n",
              "    }\n",
              "\n",
              "    [theme=dark] .colab-df-convert:hover {\n",
              "      background-color: #434B5C;\n",
              "      box-shadow: 0px 1px 3px 1px rgba(0, 0, 0, 0.15);\n",
              "      filter: drop-shadow(0px 1px 2px rgba(0, 0, 0, 0.3));\n",
              "      fill: #FFFFFF;\n",
              "    }\n",
              "  </style>\n",
              "\n",
              "      <script>\n",
              "        const buttonEl =\n",
              "          document.querySelector('#df-940b02ed-3246-402d-96d7-76bab3e4e1ef button.colab-df-convert');\n",
              "        buttonEl.style.display =\n",
              "          google.colab.kernel.accessAllowed ? 'block' : 'none';\n",
              "\n",
              "        async function convertToInteractive(key) {\n",
              "          const element = document.querySelector('#df-940b02ed-3246-402d-96d7-76bab3e4e1ef');\n",
              "          const dataTable =\n",
              "            await google.colab.kernel.invokeFunction('convertToInteractive',\n",
              "                                                     [key], {});\n",
              "          if (!dataTable) return;\n",
              "\n",
              "          const docLinkHtml = 'Like what you see? Visit the ' +\n",
              "            '<a target=\"_blank\" href=https://colab.research.google.com/notebooks/data_table.ipynb>data table notebook</a>'\n",
              "            + ' to learn more about interactive tables.';\n",
              "          element.innerHTML = '';\n",
              "          dataTable['output_type'] = 'display_data';\n",
              "          await google.colab.output.renderOutput(dataTable, element);\n",
              "          const docLink = document.createElement('div');\n",
              "          docLink.innerHTML = docLinkHtml;\n",
              "          element.appendChild(docLink);\n",
              "        }\n",
              "      </script>\n",
              "    </div>\n",
              "  </div>\n",
              "  "
            ]
          },
          "metadata": {},
          "execution_count": 17
        }
      ],
      "source": [
        "# 17. View the preprocessed data.\n",
        "complete_data_preprocessed.head() # Print the first few rows of complete_data_preprocessed."
      ]
    },
    {
      "cell_type": "markdown",
      "metadata": {
        "id": "B5Lcr_TLAZ7o"
      },
      "source": [
        "**Checking for duplicates**"
      ]
    },
    {
      "cell_type": "code",
      "execution_count": 18,
      "metadata": {
        "colab": {
          "base_uri": "https://localhost:8080/"
        },
        "id": "ongrh5QYAZ7o",
        "outputId": "e07dc06b-f82e-4abe-8faf-744a0fc59e4f"
      },
      "outputs": [
        {
          "output_type": "execute_result",
          "data": {
            "text/plain": [
              "(26711, 3)"
            ]
          },
          "metadata": {},
          "execution_count": 18
        }
      ],
      "source": [
        "# 18. The following code is used to check for duplicates in the dataset.\n",
        "\n",
        "complete_data_preprocessed[complete_data_preprocessed.duplicated()].shape # Print the shape of the duplicated rows."
      ]
    },
    {
      "cell_type": "markdown",
      "metadata": {
        "id": "iP8e8Sy6AZ7o"
      },
      "source": [
        "There are 26,711 duplicate entries in the dataset. YIKES!  \n",
        "I will remove those."
      ]
    },
    {
      "cell_type": "code",
      "execution_count": 19,
      "metadata": {
        "colab": {
          "base_uri": "https://localhost:8080/"
        },
        "id": "WNwETq1QAZ7o",
        "outputId": "78d1c05c-65da-4c58-98dd-099d2432b30f"
      },
      "outputs": [
        {
          "output_type": "execute_result",
          "data": {
            "text/plain": [
              "(28617, 3)"
            ]
          },
          "metadata": {},
          "execution_count": 19
        }
      ],
      "source": [
        "# 19. The following code is used to drop the duplicates in the dataset.\n",
        "\n",
        "complete_data_preprocessed.drop_duplicates(inplace=True) # Drop the duplicates in the dataset.\n",
        "complete_data_preprocessed.shape # Print the shape of the dataset."
      ]
    },
    {
      "cell_type": "code",
      "execution_count": 20,
      "metadata": {
        "id": "mATDAf0_AZ7o"
      },
      "outputs": [],
      "source": [
        "# 20. The following code counts the number of sarcastic and non-sarcastic headlines.\n",
        "num_sarcastic = complete_data_preprocessed['is_sarcastic'].value_counts()[1] # Number of sarcastic headlines.\n",
        "num_not_sarcastic = complete_data_preprocessed['is_sarcastic'].value_counts()[0] # Number of non-sarcastic headlines."
      ]
    },
    {
      "cell_type": "code",
      "execution_count": 21,
      "metadata": {
        "colab": {
          "base_uri": "https://localhost:8080/",
          "height": 453
        },
        "id": "vk_JAOPF0h-V",
        "outputId": "49b43e86-5254-4ddc-8a4c-9cec4cfcf2f2"
      },
      "outputs": [
        {
          "output_type": "display_data",
          "data": {
            "text/plain": [
              "<Figure size 640x480 with 1 Axes>"
            ],
            "image/png": "[encoded data removed]"
          },
          "metadata": {}
        }
      ],
      "source": [
        "# 21. The following code is used to plot the number of sarcastic and non-sarcastic headlines.\n",
        "\n",
        "complete_data_preprocessed['is_sarcastic'].value_counts().plot(kind='bar') # Plot the number of sarcastic and non-sarcastic headlines.\n",
        "plt.xticks([0,1], ['Not Sarcastic', 'Sarcastic'], rotation=0) # Set the xticks.\n",
        "plt.title('Sarcastic Counts {:.2f}%'.format((num_sarcastic / (num_sarcastic + num_not_sarcastic)*100))); # Set the title."
      ]
    },
    {
      "cell_type": "markdown",
      "metadata": {
        "id": "PZE2N_4bAZ7o"
      },
      "source": [
        "Now that the data does not contain duplicates and is pre-processed, I will first begin with a baseline Naive Bayes model."
      ]
    },
    {
      "cell_type": "markdown",
      "metadata": {
        "id": "RxSeqBUtAZ7o"
      },
      "source": [
        "**Creating a dataset with stopwords removed**"
      ]
    },
    {
      "cell_type": "code",
      "execution_count": 22,
      "metadata": {
        "id": "YWRE6DsnAZ7o"
      },
      "outputs": [],
      "source": [
        "# 22. Create a set of stopwords.\n",
        "standford_stopwords = {\"'ll\", \"'m\", \"'s\", 'a', 'about', 'above', 'after', 'again', 'against', 'ah', 'all', 'am', 'an', 'and', 'any', 'are', \"aren't\", 'arent', 'as', 'at', 'be', 'because', 'been', 'before', 'being', 'below', 'between', 'both', 'but', 'by', 'can', \"can't\", 'cannot', 'cant', 'could', \"couldn't\", 'couldnt', 'did', \"didn't\", 'didnt', 'do', 'does', \"doesn't\", 'doesnt', 'doing', \"don't\", 'dont', 'down', 'during', 'each', 'er', 'er', 'few', 'for', 'from', 'further', 'had', \"hadn't\", 'hadnt', 'has', \"hasn't\", 'hasnt', 'have', \"haven't\", 'havent', 'having', 'he', \"he'd\", \"he'll\", \"he's\", 'her', 'here', \"here's\", 'heres', 'hers', 'herself', 'hes', 'him', 'himself', 'his', 'how', \"how's\", 'hows', 'i', \"i'd\", \"i'll\", \"i'm\", \"i've\", 'if', 'im', 'in', 'into', 'is', \"isn't\", 'isnt', 'it', \"it's\", 'its', 'itself', \"let's\", 'lets', 'like', 'me', 'more', 'most', \"mustn't\", 'mustnt', 'my', 'myself', 'no', 'nor', 'not', 'of', 'off', 'oh', 'okay', 'on', 'once', 'only', 'or', 'other', 'ought', 'our', 'ours ', 'ourselves', 'out', 'over', 'own', 'return', 'right', 'same', \"shan't\", 'shant', 'she', \"she'd\", \"she'll\", \"she's\", 'shes', 'should', \"shouldn't\", 'shouldnt', 'so', 'some', 'such', 'than', 'that', \"that's\", 'thats', 'the', 'their', 'theirs', 'them', 'themselves', 'then', 'there', \"there's\", 'theres', 'these', 'they', \"they'd\", \"they'll\", \"they're\", \"they've\", 'theyll', 'theyre', 'theyve', 'this', 'those', 'through', 'to', 'too', 'uh', 'um', 'under', 'until', 'up', 'very', 'was', \"wasn't\", 'wasnt', 'we', \"we'd\", \"we'll\", \"we're\", \"we've\", 'well', 'were', \"weren't\", 'werent', 'what', \"what's\", 'whats', 'when', \"when's\", 'whens', 'where', \"where's\", 'wheres', 'which', 'while', 'who', \"who's\", 'whom', 'whos', 'why', \"why's\", 'whys', 'with', \"won't\", 'wont', 'would', \"wouldn't\", 'wouldnt', 'yeah', 'you', 'you know', \"you'd\", \"you'll\", \"you're\", \"you've\", 'youd', 'youll', 'your', 'youre', 'yours', 'yourself', 'yourselves', 'youve'}"
      ]
    },
    {
      "cell_type": "code",
      "execution_count": 23,
      "metadata": {
        "id": "qIu5HyF3AZ7p"
      },
      "outputs": [],
      "source": [
        "# 23. The following code is used to tokenize the headlines after removing the stopwords.\n",
        "\n",
        "def remove_stopwords(tokens: list(), stop_words: set(), replace: str = None) -> list(): # Define a function to remove stopwords.\n",
        "    filtered = [] # Initialize an empty list to store the filtered tokens.\n",
        "    ### Removing stop words\n",
        "    for word in tokens: # For each word in the tokens.\n",
        "        if word not in stop_words: # If the word is not in the stop words.\n",
        "            filtered.append(word) # Append the word to the filtered list.\n",
        "        else: # If the word is in the stop words.\n",
        "            if replace is not None: # If the replace parameter is not None.\n",
        "                filtered.append(replace) # Append the replace parameter to the filtered list.\n",
        "    return filtered # Return the filtered list."
      ]
    },
    {
      "cell_type": "code",
      "execution_count": 24,
      "metadata": {
        "id": "HWXMeBMEAZ7p"
      },
      "outputs": [],
      "source": [
        "# 24. This function is used to clean the response.\n",
        "def clean_response(row): # Define a function to clean the response.\n",
        "    response_list = row.split() # Split the response into a list of words.\n",
        "    response_list_cleaned = remove_stopwords(response_list, standford_stopwords) # Remove the stopwords from the response.\n",
        "    return ' '.join(response_list_cleaned) # Return the cleaned response."
      ]
    },
    {
      "cell_type": "code",
      "execution_count": 25,
      "metadata": {
        "colab": {
          "base_uri": "https://localhost:8080/",
          "height": 35
        },
        "id": "ac2y40tnAZ7p",
        "outputId": "f19e2a12-012e-40cf-f5eb-603dc1599e8f"
      },
      "outputs": [
        {
          "output_type": "execute_result",
          "data": {
            "text/plain": [
              "'mom starting to fear sons web series closest thing she will have to grandchild'"
            ],
            "application/vnd.google.colaboratory.intrinsic+json": {
              "type": "string"
            }
          },
          "metadata": {},
          "execution_count": 25
        }
      ],
      "source": [
        "# 25. Printing a sample response before cleaning.\n",
        "complete_data_preprocessed['headline'][2] # Print the sample response before cleaning."
      ]
    },
    {
      "cell_type": "code",
      "execution_count": 26,
      "metadata": {
        "colab": {
          "base_uri": "https://localhost:8080/",
          "height": 35
        },
        "id": "GmRsEKnsAZ7p",
        "outputId": "aba2d19a-970a-425d-a777-0ba2250db3dc",
        "scrolled": true
      },
      "outputs": [
        {
          "output_type": "execute_result",
          "data": {
            "text/plain": [
              "'mom starting fear sons web series closest thing will grandchild'"
            ],
            "application/vnd.google.colaboratory.intrinsic+json": {
              "type": "string"
            }
          },
          "metadata": {},
          "execution_count": 26
        }
      ],
      "source": [
        "# 26. Testing the clean_response function by passing the sample response.\n",
        "clean_response(complete_data_preprocessed['headline'][2])"
      ]
    },
    {
      "cell_type": "markdown",
      "metadata": {
        "id": "k6sT-iDwAZ7p"
      },
      "source": [
        "Apply to whole dataset"
      ]
    },
    {
      "cell_type": "code",
      "execution_count": 27,
      "metadata": {
        "colab": {
          "base_uri": "https://localhost:8080/",
          "height": 780
        },
        "id": "Imvgs596AZ7p",
        "outputId": "410de248-6f89-482a-9907-06bd6c0c2dbd",
        "scrolled": false
      },
      "outputs": [
        {
          "output_type": "execute_result",
          "data": {
            "text/plain": [
              "                                            article_link  \\\n",
              "0      https://www.huffingtonpost.com/entry/versace-b...   \n",
              "1      https://www.huffingtonpost.com/entry/roseanne-...   \n",
              "2      https://local.theonion.com/mom-starting-to-fea...   \n",
              "3      https://politics.theonion.com/boehner-just-wan...   \n",
              "4      https://www.huffingtonpost.com/entry/jk-rowlin...   \n",
              "...                                                  ...   \n",
              "55206  https://www.theonion.com/tyson-holds-contest-t...   \n",
              "55218  https://politics.theonion.com/increasingly-coc...   \n",
              "55229  https://www.theonion.com/cash-strapped-zuckerb...   \n",
              "55253  https://local.theonion.com/grocery-store-bar-a...   \n",
              "55298  https://www.theonion.com/study-83-of-marathon-...   \n",
              "\n",
              "                                                headline  is_sarcastic  \\\n",
              "0      former versace store clerk sues over secret bl...             0   \n",
              "1      the roseanne revival catches up to our thorny ...             0   \n",
              "2      mom starting to fear sons web series closest t...             1   \n",
              "3      boehner just wants wife to listen not come up ...             1   \n",
              "4      jk rowling wishes snape happy birthday in the ...             0   \n",
              "...                                                  ...           ...   \n",
              "55206  tyson holds contest to let fans submit new ide...             1   \n",
              "55218  increasingly cocky bernie sanders announces he...             1   \n",
              "55229  cashstrapped zuckerberg forced to sell 11 mill...             1   \n",
              "55253  grocery store bar actually has great little ha...             1   \n",
              "55298  study 83 of marathon spectators only attend fo...             1   \n",
              "\n",
              "                                   headline_no_stopwords  \n",
              "0      former versace store clerk sues secret black c...  \n",
              "1      roseanne revival catches thorny political mood...  \n",
              "2      mom starting fear sons web series closest thin...  \n",
              "3      boehner just wants wife listen come alternativ...  \n",
              "4      jk rowling wishes snape happy birthday magical...  \n",
              "...                                                  ...  \n",
              "55206  tyson holds contest let fans submit new ideas ...  \n",
              "55218  increasingly cocky bernie sanders announces ta...  \n",
              "55229  cashstrapped zuckerberg forced sell 11 million...  \n",
              "55253  grocery store bar actually great little happy ...  \n",
              "55298  study 83 marathon spectators attend sick thril...  \n",
              "\n",
              "[28617 rows x 4 columns]"
            ],
            "text/html": [
              "\n",
              "  <div id=\"df-a183826e-8f7e-497e-bb63-c58e053637a7\">\n",
              "    <div class=\"colab-df-container\">\n",
              "      <div>\n",
              "<style scoped>\n",
              "    .dataframe tbody tr th:only-of-type {\n",
              "        vertical-align: middle;\n",
              "    }\n",
              "\n",
              "    .dataframe tbody tr th {\n",
              "        vertical-align: top;\n",
              "    }\n",
              "\n",
              "    .dataframe thead th {\n",
              "        text-align: right;\n",
              "    }\n",
              "</style>\n",
              "<table border=\"1\" class=\"dataframe\">\n",
              "  <thead>\n",
              "    <tr style=\"text-align: right;\">\n",
              "      <th></th>\n",
              "      <th>article_link</th>\n",
              "      <th>headline</th>\n",
              "      <th>is_sarcastic</th>\n",
              "      <th>headline_no_stopwords</th>\n",
              "    </tr>\n",
              "  </thead>\n",
              "  <tbody>\n",
              "    <tr>\n",
              "      <th>0</th>\n",
              "      <td>https://www.huffingtonpost.com/entry/versace-b...</td>\n",
              "      <td>former versace store clerk sues over secret bl...</td>\n",
              "      <td>0</td>\n",
              "      <td>former versace store clerk sues secret black c...</td>\n",
              "    </tr>\n",
              "    <tr>\n",
              "      <th>1</th>\n",
              "      <td>https://www.huffingtonpost.com/entry/roseanne-...</td>\n",
              "      <td>the roseanne revival catches up to our thorny ...</td>\n",
              "      <td>0</td>\n",
              "      <td>roseanne revival catches thorny political mood...</td>\n",
              "    </tr>\n",
              "    <tr>\n",
              "      <th>2</th>\n",
              "      <td>https://local.theonion.com/mom-starting-to-fea...</td>\n",
              "      <td>mom starting to fear sons web series closest t...</td>\n",
              "      <td>1</td>\n",
              "      <td>mom starting fear sons web series closest thin...</td>\n",
              "    </tr>\n",
              "    <tr>\n",
              "      <th>3</th>\n",
              "      <td>https://politics.theonion.com/boehner-just-wan...</td>\n",
              "      <td>boehner just wants wife to listen not come up ...</td>\n",
              "      <td>1</td>\n",
              "      <td>boehner just wants wife listen come alternativ...</td>\n",
              "    </tr>\n",
              "    <tr>\n",
              "      <th>4</th>\n",
              "      <td>https://www.huffingtonpost.com/entry/jk-rowlin...</td>\n",
              "      <td>jk rowling wishes snape happy birthday in the ...</td>\n",
              "      <td>0</td>\n",
              "      <td>jk rowling wishes snape happy birthday magical...</td>\n",
              "    </tr>\n",
              "    <tr>\n",
              "      <th>...</th>\n",
              "      <td>...</td>\n",
              "      <td>...</td>\n",
              "      <td>...</td>\n",
              "      <td>...</td>\n",
              "    </tr>\n",
              "    <tr>\n",
              "      <th>55206</th>\n",
              "      <td>https://www.theonion.com/tyson-holds-contest-t...</td>\n",
              "      <td>tyson holds contest to let fans submit new ide...</td>\n",
              "      <td>1</td>\n",
              "      <td>tyson holds contest let fans submit new ideas ...</td>\n",
              "    </tr>\n",
              "    <tr>\n",
              "      <th>55218</th>\n",
              "      <td>https://politics.theonion.com/increasingly-coc...</td>\n",
              "      <td>increasingly cocky bernie sanders announces he...</td>\n",
              "      <td>1</td>\n",
              "      <td>increasingly cocky bernie sanders announces ta...</td>\n",
              "    </tr>\n",
              "    <tr>\n",
              "      <th>55229</th>\n",
              "      <td>https://www.theonion.com/cash-strapped-zuckerb...</td>\n",
              "      <td>cashstrapped zuckerberg forced to sell 11 mill...</td>\n",
              "      <td>1</td>\n",
              "      <td>cashstrapped zuckerberg forced sell 11 million...</td>\n",
              "    </tr>\n",
              "    <tr>\n",
              "      <th>55253</th>\n",
              "      <td>https://local.theonion.com/grocery-store-bar-a...</td>\n",
              "      <td>grocery store bar actually has great little ha...</td>\n",
              "      <td>1</td>\n",
              "      <td>grocery store bar actually great little happy ...</td>\n",
              "    </tr>\n",
              "    <tr>\n",
              "      <th>55298</th>\n",
              "      <td>https://www.theonion.com/study-83-of-marathon-...</td>\n",
              "      <td>study 83 of marathon spectators only attend fo...</td>\n",
              "      <td>1</td>\n",
              "      <td>study 83 marathon spectators attend sick thril...</td>\n",
              "    </tr>\n",
              "  </tbody>\n",
              "</table>\n",
              "<p>28617 rows × 4 columns</p>\n",
              "</div>\n",
              "      <button class=\"colab-df-convert\" onclick=\"convertToInteractive('df-a183826e-8f7e-497e-bb63-c58e053637a7')\"\n",
              "              title=\"Convert this dataframe to an interactive table.\"\n",
              "              style=\"display:none;\">\n",
              "        \n",
              "  <svg xmlns=\"http://www.w3.org/2000/svg\" height=\"24px\"viewBox=\"0 0 24 24\"\n",
              "       width=\"24px\">\n",
              "    <path d=\"M0 0h24v24H0V0z\" fill=\"none\"/>\n",
              "    <path d=\"M18.56 5.44l.94 2.06.94-2.06 2.06-.94-2.06-.94-.94-2.06-.94 2.06-2.06.94zm-11 1L8.5 8.5l.94-2.06 2.06-.94-2.06-.94L8.5 2.5l-.94 2.06-2.06.94zm10 10l.94 2.06.94-2.06 2.06-.94-2.06-.94-.94-2.06-.94 2.06-2.06.94z\"/><path d=\"M17.41 7.96l-1.37-1.37c-.4-.4-.92-.59-1.43-.59-.52 0-1.04.2-1.43.59L10.3 9.45l-7.72 7.72c-.78.78-.78 2.05 0 2.83L4 21.41c.39.39.9.59 1.41.59.51 0 1.02-.2 1.41-.59l7.78-7.78 2.81-2.81c.8-.78.8-2.07 0-2.86zM5.41 20L4 18.59l7.72-7.72 1.47 1.35L5.41 20z\"/>\n",
              "  </svg>\n",
              "      </button>\n",
              "      \n",
              "  <style>\n",
              "    .colab-df-container {\n",
              "      display:flex;\n",
              "      flex-wrap:wrap;\n",
              "      gap: 12px;\n",
              "    }\n",
              "\n",
              "    .colab-df-convert {\n",
              "      background-color: #E8F0FE;\n",
              "      border: none;\n",
              "      border-radius: 50%;\n",
              "      cursor: pointer;\n",
              "      display: none;\n",
              "      fill: #1967D2;\n",
              "      height: 32px;\n",
              "      padding: 0 0 0 0;\n",
              "      width: 32px;\n",
              "    }\n",
              "\n",
              "    .colab-df-convert:hover {\n",
              "      background-color: #E2EBFA;\n",
              "      box-shadow: 0px 1px 2px rgba(60, 64, 67, 0.3), 0px 1px 3px 1px rgba(60, 64, 67, 0.15);\n",
              "      fill: #174EA6;\n",
              "    }\n",
              "\n",
              "    [theme=dark] .colab-df-convert {\n",
              "      background-color: #3B4455;\n",
              "      fill: #D2E3FC;\n",
              "    }\n",
              "\n",
              "    [theme=dark] .colab-df-convert:hover {\n",
              "      background-color: #434B5C;\n",
              "      box-shadow: 0px 1px 3px 1px rgba(0, 0, 0, 0.15);\n",
              "      filter: drop-shadow(0px 1px 2px rgba(0, 0, 0, 0.3));\n",
              "      fill: #FFFFFF;\n",
              "    }\n",
              "  </style>\n",
              "\n",
              "      <script>\n",
              "        const buttonEl =\n",
              "          document.querySelector('#df-a183826e-8f7e-497e-bb63-c58e053637a7 button.colab-df-convert');\n",
              "        buttonEl.style.display =\n",
              "          google.colab.kernel.accessAllowed ? 'block' : 'none';\n",
              "\n",
              "        async function convertToInteractive(key) {\n",
              "          const element = document.querySelector('#df-a183826e-8f7e-497e-bb63-c58e053637a7');\n",
              "          const dataTable =\n",
              "            await google.colab.kernel.invokeFunction('convertToInteractive',\n",
              "                                                     [key], {});\n",
              "          if (!dataTable) return;\n",
              "\n",
              "          const docLinkHtml = 'Like what you see? Visit the ' +\n",
              "            '<a target=\"_blank\" href=https://colab.research.google.com/notebooks/data_table.ipynb>data table notebook</a>'\n",
              "            + ' to learn more about interactive tables.';\n",
              "          element.innerHTML = '';\n",
              "          dataTable['output_type'] = 'display_data';\n",
              "          await google.colab.output.renderOutput(dataTable, element);\n",
              "          const docLink = document.createElement('div');\n",
              "          docLink.innerHTML = docLinkHtml;\n",
              "          element.appendChild(docLink);\n",
              "        }\n",
              "      </script>\n",
              "    </div>\n",
              "  </div>\n",
              "  "
            ]
          },
          "metadata": {},
          "execution_count": 27
        }
      ],
      "source": [
        "# 27. Applying the clean_response function to the entire dataset.\n",
        "complete_data_preprocessed['headline_no_stopwords'] = complete_data_preprocessed['headline'].apply(clean_response) # Cleaning the whole dataset.\n",
        "complete_data_preprocessed # Print the dataset."
      ]
    },
    {
      "cell_type": "markdown",
      "metadata": {
        "id": "GnQ_dyCAAZ7p"
      },
      "source": [
        "**Data Exploration**"
      ]
    },
    {
      "cell_type": "markdown",
      "metadata": {
        "id": "ftRdQ5ZjAZ7p"
      },
      "source": [
        "*Counting how many unique words there are in the dataset*"
      ]
    },
    {
      "cell_type": "code",
      "execution_count": 28,
      "metadata": {
        "colab": {
          "base_uri": "https://localhost:8080/"
        },
        "id": "hQV8AlNkAZ7p",
        "outputId": "52cb956e-a074-4efe-b45e-1180987957c5"
      },
      "outputs": [
        {
          "output_type": "stream",
          "name": "stdout",
          "text": [
            "There are 28523 total words in the dataset\n"
          ]
        }
      ],
      "source": [
        "# 28. Counting unique words in the dataset.\n",
        "\n",
        "all_entries = '' # Initialize an empty string to store all the words in the dataset.\n",
        "for i in range(complete_data_preprocessed.shape[0]): # For each row in the dataset.\n",
        "    try:\n",
        "        all_entries += str(complete_data_preprocessed['headline'][i]) + ' ' # Append the headline to the string.\n",
        "    except:\n",
        "        continue # Continue if there is an error.\n",
        "\n",
        "all_entries = all_entries.split() # Split the string into a list of words.\n",
        "total_words = len(np.unique(np.array(all_entries))) # Count the number of unique words in the list.\n",
        "print('There are {} total words in the dataset'.format(total_words)) # Print the number of unique words in the dataset."
      ]
    },
    {
      "cell_type": "markdown",
      "metadata": {
        "id": "rO6a3rRqAZ7p"
      },
      "source": [
        "### Naive Bayes (Baseline)"
      ]
    },
    {
      "cell_type": "code",
      "execution_count": 29,
      "metadata": {
        "id": "53rbwJIaAZ7p"
      },
      "outputs": [],
      "source": [
        "# 29. Importing the required libraries for the baseline Naive Bayes model.\n",
        "from sklearn.feature_extraction.text import TfidfVectorizer # TF-IDF Vectorizer to vectorize the text.\n",
        "from sklearn.naive_bayes import MultinomialNB # Multinomial Naive Bayes model.\n",
        "from sklearn.pipeline import make_pipeline # Pipeline to combine the vectorizer and the model.\n",
        "from sklearn.model_selection import train_test_split # Train test split to split the data into training and testing sets."
      ]
    },
    {
      "cell_type": "markdown",
      "metadata": {
        "id": "9XHBIRPKAZ7p"
      },
      "source": [
        "**Split dataset into training and testing data**"
      ]
    },
    {
      "cell_type": "code",
      "execution_count": 30,
      "metadata": {
        "id": "BOh3DwXAAZ7p"
      },
      "outputs": [],
      "source": [
        "# 30. Splitting the data into training and testing sets.\n",
        "\n",
        "X = complete_data_preprocessed['headline'] # The input features are the headlines.\n",
        "y = complete_data_preprocessed['is_sarcastic'] # The target variable is the is_sarcastic column.\n",
        "\n",
        "X_train, X_test, y_train, y_test = train_test_split(X, y,  # Splitting the data into training and testing sets.\n",
        "                                                    test_size=0.2, # 20% for testing, 80% for training \n",
        "                                                    random_state=43) # Initializing for reproducibility"
      ]
    },
    {
      "cell_type": "code",
      "execution_count": 31,
      "metadata": {
        "colab": {
          "base_uri": "https://localhost:8080/",
          "height": 347
        },
        "id": "2eJFXizHAZ7p",
        "outputId": "6dac63a9-62c7-41c2-af89-732efbbd760e"
      },
      "outputs": [
        {
          "output_type": "display_data",
          "data": {
            "text/plain": [
              "<Figure size 1200x400 with 2 Axes>"
            ],
            "image/png": "[encoded data removed]"
          },
          "metadata": {}
        }
      ],
      "source": [
        "# 31. Plotting the distribution of the training and testing sets.\n",
        "fig, (ax1, ax2) = plt.subplots(1,2, figsize=(12,4)) # Initialize a figure with two subplots.\n",
        "\n",
        "y_train.value_counts().plot.bar(ax=ax1) # Plot the distribution of the training set.\n",
        "plt.sca(ax1) # Set the current axes.\n",
        "plt.title('Distribution of training dataset') # Set the title of the plot.\n",
        "plt.xticks([0,1],['Not Sarcastic','Sarcastic'], rotation=0) # Set the xticks.\n",
        "\n",
        "y_test.value_counts().plot.bar(ax=ax2) # Plot the distribution of the testing set.\n",
        "plt.sca(ax2)   # Set the current axes.\n",
        "plt.title('Distribution of testing dataset') # Set the title of the plot.\n",
        "plt.xticks([0,1],['Not Sarcastic','Sarcastic'], rotation=0); # Set the xticks."
      ]
    },
    {
      "cell_type": "code",
      "execution_count": 32,
      "metadata": {
        "id": "neVgNCIfAZ7q",
        "colab": {
          "base_uri": "https://localhost:8080/",
          "height": 126
        },
        "outputId": "e45c2872-0ce6-46ed-adc0-868b61bd5b6c"
      },
      "outputs": [
        {
          "output_type": "execute_result",
          "data": {
            "text/plain": [
              "Pipeline(steps=[('tfidfvectorizer', TfidfVectorizer()),\n",
              "                ('multinomialnb', MultinomialNB())])"
            ],
            "text/html": [
              "<style>#sk-container-id-1 {color: black;background-color: white;}#sk-container-id-1 pre{padding: 0;}#sk-container-id-1 div.sk-toggleable {background-color: white;}#sk-container-id-1 label.sk-toggleable__label {cursor: pointer;display: block;width: 100%;margin-bottom: 0;padding: 0.3em;box-sizing: border-box;text-align: center;}#sk-container-id-1 label.sk-toggleable__label-arrow:before {content: \"▸\";float: left;margin-right: 0.25em;color: #696969;}#sk-container-id-1 label.sk-toggleable__label-arrow:hover:before {color: black;}#sk-container-id-1 div.sk-estimator:hover label.sk-toggleable__label-arrow:before {color: black;}#sk-container-id-1 div.sk-toggleable__content {max-height: 0;max-width: 0;overflow: hidden;text-align: left;background-color: #f0f8ff;}#sk-container-id-1 div.sk-toggleable__content pre {margin: 0.2em;color: black;border-radius: 0.25em;background-color: #f0f8ff;}#sk-container-id-1 input.sk-toggleable__control:checked~div.sk-toggleable__content {max-height: 200px;max-width: 100%;overflow: auto;}#sk-container-id-1 input.sk-toggleable__control:checked~label.sk-toggleable__label-arrow:before {content: \"▾\";}#sk-container-id-1 div.sk-estimator input.sk-toggleable__control:checked~label.sk-toggleable__label {background-color: #d4ebff;}#sk-container-id-1 div.sk-label input.sk-toggleable__control:checked~label.sk-toggleable__label {background-color: #d4ebff;}#sk-container-id-1 input.sk-hidden--visually {border: 0;clip: rect(1px 1px 1px 1px);clip: rect(1px, 1px, 1px, 1px);height: 1px;margin: -1px;overflow: hidden;padding: 0;position: absolute;width: 1px;}#sk-container-id-1 div.sk-estimator {font-family: monospace;background-color: #f0f8ff;border: 1px dotted black;border-radius: 0.25em;box-sizing: border-box;margin-bottom: 0.5em;}#sk-container-id-1 div.sk-estimator:hover {background-color: #d4ebff;}#sk-container-id-1 div.sk-parallel-item::after {content: \"\";width: 100%;border-bottom: 1px solid gray;flex-grow: 1;}#sk-container-id-1 div.sk-label:hover label.sk-toggleable__label {background-color: #d4ebff;}#sk-container-id-1 div.sk-serial::before {content: \"\";position: absolute;border-left: 1px solid gray;box-sizing: border-box;top: 0;bottom: 0;left: 50%;z-index: 0;}#sk-container-id-1 div.sk-serial {display: flex;flex-direction: column;align-items: center;background-color: white;padding-right: 0.2em;padding-left: 0.2em;position: relative;}#sk-container-id-1 div.sk-item {position: relative;z-index: 1;}#sk-container-id-1 div.sk-parallel {display: flex;align-items: stretch;justify-content: center;background-color: white;position: relative;}#sk-container-id-1 div.sk-item::before, #sk-container-id-1 div.sk-parallel-item::before {content: \"\";position: absolute;border-left: 1px solid gray;box-sizing: border-box;top: 0;bottom: 0;left: 50%;z-index: -1;}#sk-container-id-1 div.sk-parallel-item {display: flex;flex-direction: column;z-index: 1;position: relative;background-color: white;}#sk-container-id-1 div.sk-parallel-item:first-child::after {align-self: flex-end;width: 50%;}#sk-container-id-1 div.sk-parallel-item:last-child::after {align-self: flex-start;width: 50%;}#sk-container-id-1 div.sk-parallel-item:only-child::after {width: 0;}#sk-container-id-1 div.sk-dashed-wrapped {border: 1px dashed gray;margin: 0 0.4em 0.5em 0.4em;box-sizing: border-box;padding-bottom: 0.4em;background-color: white;}#sk-container-id-1 div.sk-label label {font-family: monospace;font-weight: bold;display: inline-block;line-height: 1.2em;}#sk-container-id-1 div.sk-label-container {text-align: center;}#sk-container-id-1 div.sk-container {/* jupyter's `normalize.less` sets `[hidden] { display: none; }` but bootstrap.min.css set `[hidden] { display: none !important; }` so we also need the `!important` here to be able to override the default hidden behavior on the sphinx rendered scikit-learn.org. See: https://github.com/scikit-learn/scikit-learn/issues/21755 */display: inline-block !important;position: relative;}#sk-container-id-1 div.sk-text-repr-fallback {display: none;}</style><div id=\"sk-container-id-1\" class=\"sk-top-container\"><div class=\"sk-text-repr-fallback\"><pre>Pipeline(steps=[(&#x27;tfidfvectorizer&#x27;, TfidfVectorizer()),\n",
              "                (&#x27;multinomialnb&#x27;, MultinomialNB())])</pre><b>In a Jupyter environment, please rerun this cell to show the HTML representation or trust the notebook. <br />On GitHub, the HTML representation is unable to render, please try loading this page with nbviewer.org.</b></div><div class=\"sk-container\" hidden><div class=\"sk-item sk-dashed-wrapped\"><div class=\"sk-label-container\"><div class=\"sk-label sk-toggleable\"><input class=\"sk-toggleable__control sk-hidden--visually\" id=\"sk-estimator-id-1\" type=\"checkbox\" ><label for=\"sk-estimator-id-1\" class=\"sk-toggleable__label sk-toggleable__label-arrow\">Pipeline</label><div class=\"sk-toggleable__content\"><pre>Pipeline(steps=[(&#x27;tfidfvectorizer&#x27;, TfidfVectorizer()),\n",
              "                (&#x27;multinomialnb&#x27;, MultinomialNB())])</pre></div></div></div><div class=\"sk-serial\"><div class=\"sk-item\"><div class=\"sk-estimator sk-toggleable\"><input class=\"sk-toggleable__control sk-hidden--visually\" id=\"sk-estimator-id-2\" type=\"checkbox\" ><label for=\"sk-estimator-id-2\" class=\"sk-toggleable__label sk-toggleable__label-arrow\">TfidfVectorizer</label><div class=\"sk-toggleable__content\"><pre>TfidfVectorizer()</pre></div></div></div><div class=\"sk-item\"><div class=\"sk-estimator sk-toggleable\"><input class=\"sk-toggleable__control sk-hidden--visually\" id=\"sk-estimator-id-3\" type=\"checkbox\" ><label for=\"sk-estimator-id-3\" class=\"sk-toggleable__label sk-toggleable__label-arrow\">MultinomialNB</label><div class=\"sk-toggleable__content\"><pre>MultinomialNB()</pre></div></div></div></div></div></div></div>"
            ]
          },
          "metadata": {},
          "execution_count": 32
        }
      ],
      "source": [
        "# 32. Training the baseline Naive Bayes model.\n",
        "model = make_pipeline(TfidfVectorizer(), MultinomialNB()) # Initialize the pipeline.\n",
        "model.fit(X_train, y_train) # Fit the model on the training data."
      ]
    },
    {
      "cell_type": "code",
      "execution_count": 33,
      "metadata": {
        "id": "C2GMU0PP0h-W"
      },
      "outputs": [],
      "source": [
        "# 33. Making predictions on the testing set.\n",
        "y_predict = model.predict(X_test) # Predict on the testing set."
      ]
    },
    {
      "cell_type": "code",
      "execution_count": 34,
      "metadata": {
        "colab": {
          "base_uri": "https://localhost:8080/"
        },
        "id": "WIpskyz2AZ7q",
        "outputId": "2d4d37c0-ae44-41cd-dd2c-afbb8bba4ec5"
      },
      "outputs": [
        {
          "output_type": "stream",
          "name": "stdout",
          "text": [
            "Baseline Accuracy: 82.91%\n"
          ]
        }
      ],
      "source": [
        "# 34. Printing the baseline accuracy.\n",
        "print('Baseline Accuracy: {:.2f}%'.format((y_test == y_predict).mean() * 100)) # Print the baseline accuracy."
      ]
    },
    {
      "cell_type": "markdown",
      "metadata": {
        "id": "wYcMzamrAZ7q"
      },
      "source": [
        "We were able to accurately predict if a headline is sarcastic around 83% of the time. Next, I will be using a much more complex DNN model to improve this accuracy."
      ]
    },
    {
      "cell_type": "markdown",
      "metadata": {
        "id": "7_MsNosdAZ7q"
      },
      "source": [
        "### BERT Tensorflow Implementation"
      ]
    },
    {
      "cell_type": "markdown",
      "metadata": {
        "id": "JnGCP1bbAZ7q"
      },
      "source": [
        "**Pre-processing**"
      ]
    },
    {
      "cell_type": "markdown",
      "metadata": {
        "id": "PUzeB6dTAZ7q"
      },
      "source": [
        "1.   Split data into train, validation, and test datasets\n",
        "2.   Encode labels\n",
        "3.   Tokenize text"
      ]
    },
    {
      "cell_type": "markdown",
      "metadata": {
        "id": "s8Ee5cSpAZ7q"
      },
      "source": [
        "*Removing Duplicates in the dataset*"
      ]
    },
    {
      "cell_type": "code",
      "execution_count": 35,
      "metadata": {
        "colab": {
          "base_uri": "https://localhost:8080/"
        },
        "id": "K8maIKteAZ7q",
        "outputId": "86bd2a0c-9aee-4f3c-d004-5969b8bf3376"
      },
      "outputs": [
        {
          "output_type": "stream",
          "name": "stdout",
          "text": [
            "26711 duplicate rows dropped\n",
            "New number of rows in data set: 28617\n"
          ]
        }
      ],
      "source": [
        "# 35. Removing duplicate rows from the dataset.\n",
        "\n",
        "num_rows_b4 = complete_data_raw.shape[0] # Store the number of rows before removing duplicates.\n",
        "complete_data_raw.drop_duplicates(inplace=True) # Drop the duplicates.\n",
        "num_rows_after = complete_data_raw.shape[0] # Store the number of rows after removing duplicates.\n",
        "print('{} duplicate rows dropped'.format(num_rows_b4 - num_rows_after)) # Print the number of duplicate rows dropped.\n",
        "print('New number of rows in data set:', complete_data_raw.shape[0]) # Print the new number of rows in the dataset."
      ]
    },
    {
      "cell_type": "markdown",
      "metadata": {
        "id": "UyQ1xXeEAZ7q"
      },
      "source": [
        "*Shuffling the dataset*"
      ]
    },
    {
      "cell_type": "code",
      "execution_count": 36,
      "metadata": {
        "colab": {
          "base_uri": "https://localhost:8080/",
          "height": 206
        },
        "id": "U8RXRw12AZ7q",
        "outputId": "c3be6694-d24a-46a0-b91e-365c05ba6d31"
      },
      "outputs": [
        {
          "output_type": "execute_result",
          "data": {
            "text/plain": [
              "                                                headline  is_sarcastic\n",
              "44904  christian bale loses 40 years for upcoming mov...             1\n",
              "1660   jon stewart and 9/11 responders walk the halls...             0\n",
              "96     inhofe's grand climate conspiracy theory: it's...             0\n",
              "6237   amber rose fearful over breast reduction surge...             0\n",
              "6650                     23-hour suicide watch a failure             1"
            ],
            "text/html": [
              "\n",
              "  <div id=\"df-1c5a01bf-adc3-4b3b-af99-36a6f84958d6\">\n",
              "    <div class=\"colab-df-container\">\n",
              "      <div>\n",
              "<style scoped>\n",
              "    .dataframe tbody tr th:only-of-type {\n",
              "        vertical-align: middle;\n",
              "    }\n",
              "\n",
              "    .dataframe tbody tr th {\n",
              "        vertical-align: top;\n",
              "    }\n",
              "\n",
              "    .dataframe thead th {\n",
              "        text-align: right;\n",
              "    }\n",
              "</style>\n",
              "<table border=\"1\" class=\"dataframe\">\n",
              "  <thead>\n",
              "    <tr style=\"text-align: right;\">\n",
              "      <th></th>\n",
              "      <th>headline</th>\n",
              "      <th>is_sarcastic</th>\n",
              "    </tr>\n",
              "  </thead>\n",
              "  <tbody>\n",
              "    <tr>\n",
              "      <th>44904</th>\n",
              "      <td>christian bale loses 40 years for upcoming mov...</td>\n",
              "      <td>1</td>\n",
              "    </tr>\n",
              "    <tr>\n",
              "      <th>1660</th>\n",
              "      <td>jon stewart and 9/11 responders walk the halls...</td>\n",
              "      <td>0</td>\n",
              "    </tr>\n",
              "    <tr>\n",
              "      <th>96</th>\n",
              "      <td>inhofe's grand climate conspiracy theory: it's...</td>\n",
              "      <td>0</td>\n",
              "    </tr>\n",
              "    <tr>\n",
              "      <th>6237</th>\n",
              "      <td>amber rose fearful over breast reduction surge...</td>\n",
              "      <td>0</td>\n",
              "    </tr>\n",
              "    <tr>\n",
              "      <th>6650</th>\n",
              "      <td>23-hour suicide watch a failure</td>\n",
              "      <td>1</td>\n",
              "    </tr>\n",
              "  </tbody>\n",
              "</table>\n",
              "</div>\n",
              "      <button class=\"colab-df-convert\" onclick=\"convertToInteractive('df-1c5a01bf-adc3-4b3b-af99-36a6f84958d6')\"\n",
              "              title=\"Convert this dataframe to an interactive table.\"\n",
              "              style=\"display:none;\">\n",
              "        \n",
              "  <svg xmlns=\"http://www.w3.org/2000/svg\" height=\"24px\"viewBox=\"0 0 24 24\"\n",
              "       width=\"24px\">\n",
              "    <path d=\"M0 0h24v24H0V0z\" fill=\"none\"/>\n",
              "    <path d=\"M18.56 5.44l.94 2.06.94-2.06 2.06-.94-2.06-.94-.94-2.06-.94 2.06-2.06.94zm-11 1L8.5 8.5l.94-2.06 2.06-.94-2.06-.94L8.5 2.5l-.94 2.06-2.06.94zm10 10l.94 2.06.94-2.06 2.06-.94-2.06-.94-.94-2.06-.94 2.06-2.06.94z\"/><path d=\"M17.41 7.96l-1.37-1.37c-.4-.4-.92-.59-1.43-.59-.52 0-1.04.2-1.43.59L10.3 9.45l-7.72 7.72c-.78.78-.78 2.05 0 2.83L4 21.41c.39.39.9.59 1.41.59.51 0 1.02-.2 1.41-.59l7.78-7.78 2.81-2.81c.8-.78.8-2.07 0-2.86zM5.41 20L4 18.59l7.72-7.72 1.47 1.35L5.41 20z\"/>\n",
              "  </svg>\n",
              "      </button>\n",
              "      \n",
              "  <style>\n",
              "    .colab-df-container {\n",
              "      display:flex;\n",
              "      flex-wrap:wrap;\n",
              "      gap: 12px;\n",
              "    }\n",
              "\n",
              "    .colab-df-convert {\n",
              "      background-color: #E8F0FE;\n",
              "      border: none;\n",
              "      border-radius: 50%;\n",
              "      cursor: pointer;\n",
              "      display: none;\n",
              "      fill: #1967D2;\n",
              "      height: 32px;\n",
              "      padding: 0 0 0 0;\n",
              "      width: 32px;\n",
              "    }\n",
              "\n",
              "    .colab-df-convert:hover {\n",
              "      background-color: #E2EBFA;\n",
              "      box-shadow: 0px 1px 2px rgba(60, 64, 67, 0.3), 0px 1px 3px 1px rgba(60, 64, 67, 0.15);\n",
              "      fill: #174EA6;\n",
              "    }\n",
              "\n",
              "    [theme=dark] .colab-df-convert {\n",
              "      background-color: #3B4455;\n",
              "      fill: #D2E3FC;\n",
              "    }\n",
              "\n",
              "    [theme=dark] .colab-df-convert:hover {\n",
              "      background-color: #434B5C;\n",
              "      box-shadow: 0px 1px 3px 1px rgba(0, 0, 0, 0.15);\n",
              "      filter: drop-shadow(0px 1px 2px rgba(0, 0, 0, 0.3));\n",
              "      fill: #FFFFFF;\n",
              "    }\n",
              "  </style>\n",
              "\n",
              "      <script>\n",
              "        const buttonEl =\n",
              "          document.querySelector('#df-1c5a01bf-adc3-4b3b-af99-36a6f84958d6 button.colab-df-convert');\n",
              "        buttonEl.style.display =\n",
              "          google.colab.kernel.accessAllowed ? 'block' : 'none';\n",
              "\n",
              "        async function convertToInteractive(key) {\n",
              "          const element = document.querySelector('#df-1c5a01bf-adc3-4b3b-af99-36a6f84958d6');\n",
              "          const dataTable =\n",
              "            await google.colab.kernel.invokeFunction('convertToInteractive',\n",
              "                                                     [key], {});\n",
              "          if (!dataTable) return;\n",
              "\n",
              "          const docLinkHtml = 'Like what you see? Visit the ' +\n",
              "            '<a target=\"_blank\" href=https://colab.research.google.com/notebooks/data_table.ipynb>data table notebook</a>'\n",
              "            + ' to learn more about interactive tables.';\n",
              "          element.innerHTML = '';\n",
              "          dataTable['output_type'] = 'display_data';\n",
              "          await google.colab.output.renderOutput(dataTable, element);\n",
              "          const docLink = document.createElement('div');\n",
              "          docLink.innerHTML = docLinkHtml;\n",
              "          element.appendChild(docLink);\n",
              "        }\n",
              "      </script>\n",
              "    </div>\n",
              "  </div>\n",
              "  "
            ]
          },
          "metadata": {},
          "execution_count": 36
        }
      ],
      "source": [
        "# 36. Shuffling the dataset.\n",
        "df = complete_data_raw[['headline','is_sarcastic']].sample(frac=1, random_state=42).copy() # Rename the dataset.\n",
        "df.head() # Print the first five rows of the dataset."
      ]
    },
    {
      "cell_type": "markdown",
      "metadata": {
        "id": "I9Tj6AcSAZ7q"
      },
      "source": [
        "*Finding the optimal `input_length` to feed into the DNN*"
      ]
    },
    {
      "cell_type": "code",
      "execution_count": 37,
      "metadata": {
        "colab": {
          "base_uri": "https://localhost:8080/"
        },
        "id": "jfh8K7SwAZ7r",
        "outputId": "d59454ed-9fac-478b-c0c6-48305bc84df2"
      },
      "outputs": [
        {
          "output_type": "stream",
          "name": "stdout",
          "text": [
            "Max Headline Length 151\n",
            "Mean Headline Length 10.05\n",
            "Median Headline Length 10.0\n",
            "Third Quantile Headline Length 12.0\n",
            "90% Headline Length 14.0\n",
            "99.99% Headline Length 31.96879999997327\n"
          ]
        }
      ],
      "source": [
        "# 37. The following code finds different statistical insughts about the headlines.\n",
        "\n",
        "def give_length(text): # Define a function to give the number of words in a headline.\n",
        "    return len(text.split())\n",
        "\n",
        "df['headline_length'] = df['headline'].apply(give_length) # Apply the function to the dataset.\n",
        "print('Max Headline Length {}'.format(df['headline_length'].max())) # Print the maximum headline length.\n",
        "print('Mean Headline Length {:.2f}'.format(df['headline_length'].mean())) # Print the mean headline length.\n",
        "print('Median Headline Length {}'.format(df['headline_length'].median())) # Print the median headline length.\n",
        "print('Third Quantile Headline Length {}'.format(np.percentile(df['headline_length'], 75))) # Print the third quantile headline length.\n",
        "print('90% Headline Length {}'.format(np.percentile(df['headline_length'], 90))) # Print the 90th percentile headline length.\n",
        "print('99.99% Headline Length {}'.format(np.percentile(df['headline_length'], 99.99))) # Print the 99.99th percentile headline length."
      ]
    },
    {
      "cell_type": "code",
      "execution_count": 38,
      "metadata": {
        "colab": {
          "base_uri": "https://localhost:8080/",
          "height": 495
        },
        "id": "qlNihd6yAZ7r",
        "outputId": "4d765ace-ee63-4a9f-978a-c4d8843dbe73"
      },
      "outputs": [
        {
          "output_type": "execute_result",
          "data": {
            "text/plain": [
              "Text(0.5, 0, 'Headline Length')"
            ]
          },
          "metadata": {},
          "execution_count": 38
        },
        {
          "output_type": "display_data",
          "data": {
            "text/plain": [
              "<Figure size 640x480 with 1 Axes>"
            ],
            "image/png": "[encoded data removed]"
          },
          "metadata": {}
        }
      ],
      "source": [
        "# 38. Plotting the distribution of the headline lengths.\n",
        "df['headline_length'].astype(float).plot.box() # Plot the boxplot.\n",
        "plt.title('Headline Lengths') # Set the title of the plot.\n",
        "plt.ylabel('Number of words') # Set the y-axis label.\n",
        "plt.xlabel('Headline Length') # Set the x-axis label."
      ]
    },
    {
      "cell_type": "markdown",
      "metadata": {
        "id": "ijaZwd3_AZ7r"
      },
      "source": [
        "**Creating our test, training, validation datasets**"
      ]
    },
    {
      "cell_type": "markdown",
      "metadata": {
        "id": "ej_OMNhAAZ7r"
      },
      "source": [
        "- Training (~70%)\n",
        "- Validation (~20%)\n",
        "- Testing (~10%)"
      ]
    },
    {
      "cell_type": "code",
      "execution_count": 39,
      "metadata": {
        "id": "1VXaCYYOAZ7r"
      },
      "outputs": [],
      "source": [
        "# 39. Calculating the number of samples in each of the splits.\n",
        "\n",
        "num_samples = df.shape[0] # Total number of samples.\n",
        "training_samples = int(np.percentile(np.arange(num_samples), 70)) # 70% of the data for training.\n",
        "validation_samples = int(np.percentile(np.arange(num_samples), 20)) # 20% of the data for validation."
      ]
    },
    {
      "cell_type": "code",
      "execution_count": 40,
      "metadata": {
        "colab": {
          "base_uri": "https://localhost:8080/"
        },
        "id": "-3QWO2Ns0h-Y",
        "outputId": "3d31bc6f-6b96-41c5-a927-2d5831e1138d"
      },
      "outputs": [
        {
          "output_type": "stream",
          "name": "stdout",
          "text": [
            "28617 number of samples\n",
            "20031 training samples\n",
            "5723 validation samples\n",
            "2863 testing samples\n"
          ]
        }
      ],
      "source": [
        "# 40. Print the number of samples in each of the splits.\n",
        "\n",
        "print('{} number of samples'.format(num_samples)) # Print the total number of samples.\n",
        "print('{} training samples'.format(training_samples)) # Print the number of training samples.\n",
        "print('{} validation samples'.format(validation_samples)) # Print the number of validation samples.\n",
        "print('{} testing samples'.format(num_samples - training_samples - validation_samples)) # Print the number of testing samples."
      ]
    },
    {
      "cell_type": "code",
      "execution_count": 41,
      "metadata": {
        "id": "onz6IVL2AZ7r"
      },
      "outputs": [],
      "source": [
        "# 41. Splitting the data into training, validation and testing sets.\n",
        "data = df['headline'] # The input features are the headlines.\n",
        "labels = df['is_sarcastic'] # The target variable is the is_sarcastic column.\n",
        "\n",
        "x_train = data[:training_samples] # x_train is the training data.\n",
        "y_train = labels[:training_samples] # y_train is the training labels.\n",
        "x_val = data[training_samples: training_samples + validation_samples] # x_val is the validation data.\n",
        "y_val = labels[training_samples: training_samples + validation_samples] # y_val is the validation labels.\n",
        "x_test = data[training_samples + validation_samples:] # x_test is the testing data.\n",
        "y_test = labels[training_samples + validation_samples:] # y_test is the testing labels."
      ]
    },
    {
      "cell_type": "code",
      "execution_count": 42,
      "metadata": {
        "id": "aIhoGaWZAZ7r"
      },
      "outputs": [],
      "source": [
        "# 42. Print the shape of the training, validation and testing sets.\n",
        "### Sanity Check\n",
        "# Assert statements are used to check if the following conditions are true. If they are not, an error is raised.\n",
        "assert(x_train.shape[0] == training_samples) # Are the number of training samples correct?\n",
        "assert(y_train.shape[0] == training_samples) # Are the number of training labels correct?\n",
        "assert(x_val.shape[0] == validation_samples) # Are the number of validation samples correct?\n",
        "assert(y_val.shape[0] == validation_samples) # Are the number of validation labels correct?\n",
        "assert(x_test.shape[0] == num_samples - training_samples - validation_samples) # Are the number of testing samples correct?\n",
        "assert(y_test.shape[0] == num_samples - training_samples - validation_samples) # Are the number of testing labels correct?"
      ]
    },
    {
      "cell_type": "markdown",
      "metadata": {
        "id": "JNWO7nSEAZ7r"
      },
      "source": [
        "**Pre-Processing**"
      ]
    },
    {
      "cell_type": "markdown",
      "metadata": {
        "id": "BMyQJwU6AZ7r"
      },
      "source": [
        "*Turning the tokenization process into functions*"
      ]
    },
    {
      "cell_type": "code",
      "execution_count": 43,
      "metadata": {
        "id": "kQgwfTv8CcF1"
      },
      "outputs": [],
      "source": [
        "# 43. Downloading the BERT model, the one used here is the multilingual BERT model.\n",
        "# The model is downloaded from TensorFlow Hub.\n",
        "# This might take a few minutes.\n",
        "\n",
        "bert_layer = hub.KerasLayer(\"https://tfhub.dev/tensorflow/bert_multi_cased_L-12_H-768_A-12/2\", trainable=False) ### Download BERT\n",
        "# The above line downloads the BERT model from TensorFlow Hub and stores it in the bert_layer variable.\n",
        "# bert_multi_cased_L-12_H-768_A-12/2 is the name of the model.\n",
        "# Let's break down what this name means.\n",
        "# BERT = Bidirectional Encoder Representations from Transformers\n",
        "# multi = multilingual. This model can be used for multiple languages.\n",
        "# cased = case-sensitive. This model is case-sensitive.\n",
        "# L-12 = 12 layers. The model has 12 layers.\n",
        "# H-768 = 768 hidden units. The model has 768 hidden units.\n",
        "# A-12 = 12 attention heads. The model has 12 attention heads."
      ]
    },
    {
      "cell_type": "code",
      "execution_count": 44,
      "metadata": {
        "colab": {
          "base_uri": "https://localhost:8080/"
        },
        "id": "i7UggBUCohUH",
        "outputId": "172e1eda-9963-4ebf-8bc5-1e3e47337866"
      },
      "outputs": [
        {
          "output_type": "stream",
          "name": "stdout",
          "text": [
            "Looking in indexes: https://pypi.org/simple, https://us-python.pkg.dev/colab-wheels/public/simple/\n",
            "Requirement already satisfied: jax in /usr/local/lib/python3.10/dist-packages (0.4.8)\n",
            "Requirement already satisfied: numpy>=1.21 in /usr/local/lib/python3.10/dist-packages (from jax) (1.22.4)\n",
            "Requirement already satisfied: scipy>=1.7 in /usr/local/lib/python3.10/dist-packages (from jax) (1.10.1)\n",
            "Requirement already satisfied: ml-dtypes>=0.0.3 in /usr/local/lib/python3.10/dist-packages (from jax) (0.1.0)\n",
            "Requirement already satisfied: opt-einsum in /usr/local/lib/python3.10/dist-packages (from jax) (3.3.0)\n"
          ]
        }
      ],
      "source": [
        "# 44. JAX is a library for high-performance machine learning research.\n",
        "# Not having the latest version of JAX installed might create dependency issues and raise errors.\n",
        "!pip install jax --upgrade # Use % instead of ! if you are using a Jupyter Notebook.\n",
        "# %pip install jax --upgrade # Install the latest version of JAX."
      ]
    },
    {
      "cell_type": "code",
      "execution_count": 45,
      "metadata": {
        "colab": {
          "base_uri": "https://localhost:8080/",
          "height": 1000
        },
        "id": "ZemvysywCu4Q",
        "outputId": "9965b5fb-ae1e-466f-e3a0-2be7c0b15e91"
      },
      "outputs": [
        {
          "output_type": "stream",
          "name": "stdout",
          "text": [
            "Looking in indexes: https://pypi.org/simple, https://us-python.pkg.dev/colab-wheels/public/simple/\n",
            "Collecting tf-models-official\n",
            "  Downloading tf_models_official-2.12.0-py2.py3-none-any.whl (2.6 MB)\n",
            "\u001b[2K     \u001b[90m━━━━━━━━━━━━━━━━━━━━━━━━━━━━━━━━━━━━━━━━\u001b[0m \u001b[32m2.6/2.6 MB\u001b[0m \u001b[31m50.6 MB/s\u001b[0m eta \u001b[36m0:00:00\u001b[0m\n",
            "\u001b[?25hRequirement already satisfied: pandas>=0.22.0 in /usr/local/lib/python3.10/dist-packages (from tf-models-official) (1.5.3)\n",
            "Requirement already satisfied: scipy>=0.19.1 in /usr/local/lib/python3.10/dist-packages (from tf-models-official) (1.10.1)\n",
            "Requirement already satisfied: gin-config in /usr/local/lib/python3.10/dist-packages (from tf-models-official) (0.5.0)\n",
            "Requirement already satisfied: six in /usr/local/lib/python3.10/dist-packages (from tf-models-official) (1.16.0)\n",
            "Collecting sentencepiece\n",
            "  Downloading sentencepiece-0.1.99-cp310-cp310-manylinux_2_17_x86_64.manylinux2014_x86_64.whl (1.3 MB)\n",
            "\u001b[2K     \u001b[90m━━━━━━━━━━━━━━━━━━━━━━━━━━━━━━━━━━━━━━━━\u001b[0m \u001b[32m1.3/1.3 MB\u001b[0m \u001b[31m50.7 MB/s\u001b[0m eta \u001b[36m0:00:00\u001b[0m\n",
            "\u001b[?25hRequirement already satisfied: google-api-python-client>=1.6.7 in /usr/local/lib/python3.10/dist-packages (from tf-models-official) (2.84.0)\n",
            "Requirement already satisfied: matplotlib in /usr/local/lib/python3.10/dist-packages (from tf-models-official) (3.7.1)\n",
            "Collecting sacrebleu\n",
            "  Downloading sacrebleu-2.3.1-py3-none-any.whl (118 kB)\n",
            "\u001b[2K     \u001b[90m━━━━━━━━━━━━━━━━━━━━━━━━━━━━━━━━━━━━━━\u001b[0m \u001b[32m118.9/118.9 kB\u001b[0m \u001b[31m19.3 MB/s\u001b[0m eta \u001b[36m0:00:00\u001b[0m\n",
            "\u001b[?25hRequirement already satisfied: pycocotools in /usr/local/lib/python3.10/dist-packages (from tf-models-official) (2.0.6)\n",
            "Requirement already satisfied: tf-slim>=1.1.0 in /usr/local/lib/python3.10/dist-packages (from tf-models-official) (1.1.0)\n",
            "Requirement already satisfied: tensorflow-datasets in /usr/local/lib/python3.10/dist-packages (from tf-models-official) (4.8.3)\n",
            "Collecting pyyaml<6.0,>=5.1\n",
            "  Downloading PyYAML-5.4.1.tar.gz (175 kB)\n",
            "\u001b[2K     \u001b[90m━━━━━━━━━━━━━━━━━━━━━━━━━━━━━━━━━━━━━━\u001b[0m \u001b[32m175.1/175.1 kB\u001b[0m \u001b[31m23.9 MB/s\u001b[0m eta \u001b[36m0:00:00\u001b[0m\n",
            "\u001b[?25h  Installing build dependencies ... \u001b[?25l\u001b[?25hdone\n",
            "  Getting requirements to build wheel ... \u001b[?25l\u001b[?25hdone\n",
            "  Preparing metadata (pyproject.toml) ... \u001b[?25l\u001b[?25hdone\n",
            "Requirement already satisfied: tensorflow~=2.12.0 in /usr/local/lib/python3.10/dist-packages (from tf-models-official) (2.12.0)\n",
            "Collecting tensorflow-model-optimization>=0.4.1\n",
            "  Downloading tensorflow_model_optimization-0.7.4-py2.py3-none-any.whl (240 kB)\n",
            "\u001b[2K     \u001b[90m━━━━━━━━━━━━━━━━━━━━━━━━━━━━━━━━━━━━━━\u001b[0m \u001b[32m240.6/240.6 kB\u001b[0m \u001b[31m28.2 MB/s\u001b[0m eta \u001b[36m0:00:00\u001b[0m\n",
            "\u001b[?25hRequirement already satisfied: kaggle>=1.3.9 in /usr/local/lib/python3.10/dist-packages (from tf-models-official) (1.5.13)\n",
            "Collecting immutabledict\n",
            "  Downloading immutabledict-2.2.4-py3-none-any.whl (4.1 kB)\n",
            "Collecting tensorflow-text~=2.12.0\n",
            "  Downloading tensorflow_text-2.12.1-cp310-cp310-manylinux_2_17_x86_64.manylinux2014_x86_64.whl (6.0 MB)\n",
            "\u001b[2K     \u001b[90m━━━━━━━━━━━━━━━━━━━━━━━━━━━━━━━━━━━━━━━━\u001b[0m \u001b[32m6.0/6.0 MB\u001b[0m \u001b[31m72.8 MB/s\u001b[0m eta \u001b[36m0:00:00\u001b[0m\n",
            "\u001b[?25hCollecting seqeval\n",
            "  Downloading seqeval-1.2.2.tar.gz (43 kB)\n",
            "\u001b[2K     \u001b[90m━━━━━━━━━━━━━━━━━━━━━━━━━━━━━━━━━━━━━━━━\u001b[0m \u001b[32m43.6/43.6 kB\u001b[0m \u001b[31m6.2 MB/s\u001b[0m eta \u001b[36m0:00:00\u001b[0m\n",
            "\u001b[?25h  Preparing metadata (setup.py) ... \u001b[?25l\u001b[?25hdone\n",
            "Requirement already satisfied: Cython in /usr/local/lib/python3.10/dist-packages (from tf-models-official) (0.29.34)\n",
            "Requirement already satisfied: numpy>=1.20 in /usr/local/lib/python3.10/dist-packages (from tf-models-official) (1.22.4)\n",
            "Requirement already satisfied: oauth2client in /usr/local/lib/python3.10/dist-packages (from tf-models-official) (4.1.3)\n",
            "Requirement already satisfied: Pillow in /usr/local/lib/python3.10/dist-packages (from tf-models-official) (8.4.0)\n",
            "Requirement already satisfied: psutil>=5.4.3 in /usr/local/lib/python3.10/dist-packages (from tf-models-official) (5.9.5)\n",
            "Requirement already satisfied: opencv-python-headless in /usr/local/lib/python3.10/dist-packages (from tf-models-official) (4.7.0.72)\n",
            "Requirement already satisfied: tensorflow-hub>=0.6.0 in /usr/local/lib/python3.10/dist-packages (from tf-models-official) (0.13.0)\n",
            "Requirement already satisfied: py-cpuinfo>=3.3.0 in /usr/local/lib/python3.10/dist-packages (from tf-models-official) (9.0.0)\n",
            "Collecting tensorflow-addons\n",
            "  Downloading tensorflow_addons-0.20.0-cp310-cp310-manylinux_2_17_x86_64.manylinux2014_x86_64.whl (591 kB)\n",
            "\u001b[2K     \u001b[90m━━━━━━━━━━━━━━━━━━━━━━━━━━━━━━━━━━━━━━\u001b[0m \u001b[32m591.0/591.0 kB\u001b[0m \u001b[31m50.7 MB/s\u001b[0m eta \u001b[36m0:00:00\u001b[0m\n",
            "\u001b[?25hRequirement already satisfied: google-api-core!=2.0.*,!=2.1.*,!=2.2.*,!=2.3.0,<3.0.0dev,>=1.31.5 in /usr/local/lib/python3.10/dist-packages (from google-api-python-client>=1.6.7->tf-models-official) (2.11.0)\n",
            "Requirement already satisfied: httplib2<1dev,>=0.15.0 in /usr/local/lib/python3.10/dist-packages (from google-api-python-client>=1.6.7->tf-models-official) (0.21.0)\n",
            "Requirement already satisfied: google-auth<3.0.0dev,>=1.19.0 in /usr/local/lib/python3.10/dist-packages (from google-api-python-client>=1.6.7->tf-models-official) (2.17.3)\n",
            "Requirement already satisfied: uritemplate<5,>=3.0.1 in /usr/local/lib/python3.10/dist-packages (from google-api-python-client>=1.6.7->tf-models-official) (4.1.1)\n",
            "Requirement already satisfied: google-auth-httplib2>=0.1.0 in /usr/local/lib/python3.10/dist-packages (from google-api-python-client>=1.6.7->tf-models-official) (0.1.0)\n",
            "Requirement already satisfied: tqdm in /usr/local/lib/python3.10/dist-packages (from kaggle>=1.3.9->tf-models-official) (4.65.0)\n",
            "Requirement already satisfied: certifi in /usr/local/lib/python3.10/dist-packages (from kaggle>=1.3.9->tf-models-official) (2022.12.7)\n",
            "Requirement already satisfied: python-dateutil in /usr/local/lib/python3.10/dist-packages (from kaggle>=1.3.9->tf-models-official) (2.8.2)\n",
            "Requirement already satisfied: urllib3 in /usr/local/lib/python3.10/dist-packages (from kaggle>=1.3.9->tf-models-official) (1.26.15)\n",
            "Requirement already satisfied: requests in /usr/local/lib/python3.10/dist-packages (from kaggle>=1.3.9->tf-models-official) (2.27.1)\n",
            "Requirement already satisfied: python-slugify in /usr/local/lib/python3.10/dist-packages (from kaggle>=1.3.9->tf-models-official) (8.0.1)\n",
            "Requirement already satisfied: pytz>=2020.1 in /usr/local/lib/python3.10/dist-packages (from pandas>=0.22.0->tf-models-official) (2022.7.1)\n",
            "Requirement already satisfied: tensorflow-io-gcs-filesystem>=0.23.1 in /usr/local/lib/python3.10/dist-packages (from tensorflow~=2.12.0->tf-models-official) (0.32.0)\n",
            "Requirement already satisfied: gast<=0.4.0,>=0.2.1 in /usr/local/lib/python3.10/dist-packages (from tensorflow~=2.12.0->tf-models-official) (0.4.0)\n",
            "Requirement already satisfied: tensorboard<2.13,>=2.12 in /usr/local/lib/python3.10/dist-packages (from tensorflow~=2.12.0->tf-models-official) (2.12.2)\n",
            "Requirement already satisfied: google-pasta>=0.1.1 in /usr/local/lib/python3.10/dist-packages (from tensorflow~=2.12.0->tf-models-official) (0.2.0)\n",
            "Requirement already satisfied: h5py>=2.9.0 in /usr/local/lib/python3.10/dist-packages (from tensorflow~=2.12.0->tf-models-official) (3.8.0)\n",
            "Requirement already satisfied: astunparse>=1.6.0 in /usr/local/lib/python3.10/dist-packages (from tensorflow~=2.12.0->tf-models-official) (1.6.3)\n",
            "Requirement already satisfied: setuptools in /usr/local/lib/python3.10/dist-packages (from tensorflow~=2.12.0->tf-models-official) (67.7.2)\n",
            "Requirement already satisfied: flatbuffers>=2.0 in /usr/local/lib/python3.10/dist-packages (from tensorflow~=2.12.0->tf-models-official) (23.3.3)\n",
            "Requirement already satisfied: libclang>=13.0.0 in /usr/local/lib/python3.10/dist-packages (from tensorflow~=2.12.0->tf-models-official) (16.0.0)\n",
            "Requirement already satisfied: jax>=0.3.15 in /usr/local/lib/python3.10/dist-packages (from tensorflow~=2.12.0->tf-models-official) (0.4.8)\n",
            "Requirement already satisfied: keras<2.13,>=2.12.0 in /usr/local/lib/python3.10/dist-packages (from tensorflow~=2.12.0->tf-models-official) (2.12.0)\n",
            "Requirement already satisfied: protobuf!=4.21.0,!=4.21.1,!=4.21.2,!=4.21.3,!=4.21.4,!=4.21.5,<5.0.0dev,>=3.20.3 in /usr/local/lib/python3.10/dist-packages (from tensorflow~=2.12.0->tf-models-official) (3.20.3)\n",
            "Requirement already satisfied: tensorflow-estimator<2.13,>=2.12.0 in /usr/local/lib/python3.10/dist-packages (from tensorflow~=2.12.0->tf-models-official) (2.12.0)\n",
            "Requirement already satisfied: opt-einsum>=2.3.2 in /usr/local/lib/python3.10/dist-packages (from tensorflow~=2.12.0->tf-models-official) (3.3.0)\n",
            "Requirement already satisfied: grpcio<2.0,>=1.24.3 in /usr/local/lib/python3.10/dist-packages (from tensorflow~=2.12.0->tf-models-official) (1.54.0)\n",
            "Requirement already satisfied: termcolor>=1.1.0 in /usr/local/lib/python3.10/dist-packages (from tensorflow~=2.12.0->tf-models-official) (2.3.0)\n",
            "Requirement already satisfied: packaging in /usr/local/lib/python3.10/dist-packages (from tensorflow~=2.12.0->tf-models-official) (23.1)\n",
            "Requirement already satisfied: typing-extensions>=3.6.6 in /usr/local/lib/python3.10/dist-packages (from tensorflow~=2.12.0->tf-models-official) (4.5.0)\n",
            "Requirement already satisfied: wrapt<1.15,>=1.11.0 in /usr/local/lib/python3.10/dist-packages (from tensorflow~=2.12.0->tf-models-official) (1.14.1)\n",
            "Requirement already satisfied: absl-py>=1.0.0 in /usr/local/lib/python3.10/dist-packages (from tensorflow~=2.12.0->tf-models-official) (1.4.0)\n",
            "Collecting numpy>=1.20\n",
            "  Downloading numpy-1.23.5-cp310-cp310-manylinux_2_17_x86_64.manylinux2014_x86_64.whl (17.1 MB)\n",
            "\u001b[2K     \u001b[90m━━━━━━━━━━━━━━━━━━━━━━━━━━━━━━━━━━━━━━━━\u001b[0m \u001b[32m17.1/17.1 MB\u001b[0m \u001b[31m56.5 MB/s\u001b[0m eta \u001b[36m0:00:00\u001b[0m\n",
            "\u001b[?25hRequirement already satisfied: dm-tree~=0.1.1 in /usr/local/lib/python3.10/dist-packages (from tensorflow-model-optimization>=0.4.1->tf-models-official) (0.1.8)\n",
            "Requirement already satisfied: contourpy>=1.0.1 in /usr/local/lib/python3.10/dist-packages (from matplotlib->tf-models-official) (1.0.7)\n",
            "Requirement already satisfied: cycler>=0.10 in /usr/local/lib/python3.10/dist-packages (from matplotlib->tf-models-official) (0.11.0)\n",
            "Requirement already satisfied: fonttools>=4.22.0 in /usr/local/lib/python3.10/dist-packages (from matplotlib->tf-models-official) (4.39.3)\n",
            "Requirement already satisfied: pyparsing>=2.3.1 in /usr/local/lib/python3.10/dist-packages (from matplotlib->tf-models-official) (3.0.9)\n",
            "Requirement already satisfied: kiwisolver>=1.0.1 in /usr/local/lib/python3.10/dist-packages (from matplotlib->tf-models-official) (1.4.4)\n",
            "Requirement already satisfied: pyasn1-modules>=0.0.5 in /usr/local/lib/python3.10/dist-packages (from oauth2client->tf-models-official) (0.3.0)\n",
            "Requirement already satisfied: rsa>=3.1.4 in /usr/local/lib/python3.10/dist-packages (from oauth2client->tf-models-official) (4.9)\n",
            "Requirement already satisfied: pyasn1>=0.1.7 in /usr/local/lib/python3.10/dist-packages (from oauth2client->tf-models-official) (0.5.0)\n",
            "Requirement already satisfied: regex in /usr/local/lib/python3.10/dist-packages (from sacrebleu->tf-models-official) (2022.10.31)\n",
            "Requirement already satisfied: lxml in /usr/local/lib/python3.10/dist-packages (from sacrebleu->tf-models-official) (4.9.2)\n",
            "Requirement already satisfied: tabulate>=0.8.9 in /usr/local/lib/python3.10/dist-packages (from sacrebleu->tf-models-official) (0.8.10)\n",
            "Collecting portalocker\n",
            "  Downloading portalocker-2.7.0-py2.py3-none-any.whl (15 kB)\n",
            "Collecting colorama\n",
            "  Downloading colorama-0.4.6-py2.py3-none-any.whl (25 kB)\n",
            "Requirement already satisfied: scikit-learn>=0.21.3 in /usr/local/lib/python3.10/dist-packages (from seqeval->tf-models-official) (1.2.2)\n",
            "Collecting typeguard<3.0.0,>=2.7\n",
            "  Downloading typeguard-2.13.3-py3-none-any.whl (17 kB)\n",
            "Requirement already satisfied: etils[enp,epath]>=0.9.0 in /usr/local/lib/python3.10/dist-packages (from tensorflow-datasets->tf-models-official) (1.2.0)\n",
            "Requirement already satisfied: tensorflow-metadata in /usr/local/lib/python3.10/dist-packages (from tensorflow-datasets->tf-models-official) (1.13.1)\n",
            "Requirement already satisfied: toml in /usr/local/lib/python3.10/dist-packages (from tensorflow-datasets->tf-models-official) (0.10.2)\n",
            "Requirement already satisfied: click in /usr/local/lib/python3.10/dist-packages (from tensorflow-datasets->tf-models-official) (8.1.3)\n",
            "Requirement already satisfied: promise in /usr/local/lib/python3.10/dist-packages (from tensorflow-datasets->tf-models-official) (2.3)\n",
            "Requirement already satisfied: wheel<1.0,>=0.23.0 in /usr/local/lib/python3.10/dist-packages (from astunparse>=1.6.0->tensorflow~=2.12.0->tf-models-official) (0.40.0)\n",
            "Requirement already satisfied: zipp in /usr/local/lib/python3.10/dist-packages (from etils[enp,epath]>=0.9.0->tensorflow-datasets->tf-models-official) (3.15.0)\n",
            "Requirement already satisfied: importlib_resources in /usr/local/lib/python3.10/dist-packages (from etils[enp,epath]>=0.9.0->tensorflow-datasets->tf-models-official) (5.12.0)\n",
            "Requirement already satisfied: googleapis-common-protos<2.0dev,>=1.56.2 in /usr/local/lib/python3.10/dist-packages (from google-api-core!=2.0.*,!=2.1.*,!=2.2.*,!=2.3.0,<3.0.0dev,>=1.31.5->google-api-python-client>=1.6.7->tf-models-official) (1.59.0)\n",
            "Requirement already satisfied: cachetools<6.0,>=2.0.0 in /usr/local/lib/python3.10/dist-packages (from google-auth<3.0.0dev,>=1.19.0->google-api-python-client>=1.6.7->tf-models-official) (5.3.0)\n",
            "Requirement already satisfied: ml-dtypes>=0.0.3 in /usr/local/lib/python3.10/dist-packages (from jax>=0.3.15->tensorflow~=2.12.0->tf-models-official) (0.1.0)\n",
            "Requirement already satisfied: idna<4,>=2.5 in /usr/local/lib/python3.10/dist-packages (from requests->kaggle>=1.3.9->tf-models-official) (3.4)\n",
            "Requirement already satisfied: charset-normalizer~=2.0.0 in /usr/local/lib/python3.10/dist-packages (from requests->kaggle>=1.3.9->tf-models-official) (2.0.12)\n",
            "Requirement already satisfied: threadpoolctl>=2.0.0 in /usr/local/lib/python3.10/dist-packages (from scikit-learn>=0.21.3->seqeval->tf-models-official) (3.1.0)\n",
            "Requirement already satisfied: joblib>=1.1.1 in /usr/local/lib/python3.10/dist-packages (from scikit-learn>=0.21.3->seqeval->tf-models-official) (1.2.0)\n",
            "Requirement already satisfied: tensorboard-plugin-wit>=1.6.0 in /usr/local/lib/python3.10/dist-packages (from tensorboard<2.13,>=2.12->tensorflow~=2.12.0->tf-models-official) (1.8.1)\n",
            "Requirement already satisfied: werkzeug>=1.0.1 in /usr/local/lib/python3.10/dist-packages (from tensorboard<2.13,>=2.12->tensorflow~=2.12.0->tf-models-official) (2.3.0)\n",
            "Requirement already satisfied: markdown>=2.6.8 in /usr/local/lib/python3.10/dist-packages (from tensorboard<2.13,>=2.12->tensorflow~=2.12.0->tf-models-official) (3.4.3)\n",
            "Requirement already satisfied: tensorboard-data-server<0.8.0,>=0.7.0 in /usr/local/lib/python3.10/dist-packages (from tensorboard<2.13,>=2.12->tensorflow~=2.12.0->tf-models-official) (0.7.0)\n",
            "Requirement already satisfied: google-auth-oauthlib<1.1,>=0.5 in /usr/local/lib/python3.10/dist-packages (from tensorboard<2.13,>=2.12->tensorflow~=2.12.0->tf-models-official) (1.0.0)\n",
            "Requirement already satisfied: text-unidecode>=1.3 in /usr/local/lib/python3.10/dist-packages (from python-slugify->kaggle>=1.3.9->tf-models-official) (1.3)\n",
            "Requirement already satisfied: requests-oauthlib>=0.7.0 in /usr/local/lib/python3.10/dist-packages (from google-auth-oauthlib<1.1,>=0.5->tensorboard<2.13,>=2.12->tensorflow~=2.12.0->tf-models-official) (1.3.1)\n",
            "Requirement already satisfied: MarkupSafe>=2.1.1 in /usr/local/lib/python3.10/dist-packages (from werkzeug>=1.0.1->tensorboard<2.13,>=2.12->tensorflow~=2.12.0->tf-models-official) (2.1.2)\n",
            "Requirement already satisfied: oauthlib>=3.0.0 in /usr/local/lib/python3.10/dist-packages (from requests-oauthlib>=0.7.0->google-auth-oauthlib<1.1,>=0.5->tensorboard<2.13,>=2.12->tensorflow~=2.12.0->tf-models-official) (3.2.2)\n",
            "Building wheels for collected packages: pyyaml, seqeval\n",
            "  Building wheel for pyyaml (pyproject.toml) ... \u001b[?25l\u001b[?25hdone\n",
            "  Created wheel for pyyaml: filename=PyYAML-5.4.1-cp310-cp310-linux_x86_64.whl size=45658 sha256=748f74b8237df7e3021b603273dcab432ed71fd266b86bfb5737c416db895975\n",
            "  Stored in directory: /root/.cache/pip/wheels/c7/0d/22/696ee92245ad710f506eee79bb05c740d8abccd3ecdb778683\n",
            "  Building wheel for seqeval (setup.py) ... \u001b[?25l\u001b[?25hdone\n",
            "  Created wheel for seqeval: filename=seqeval-1.2.2-py3-none-any.whl size=16180 sha256=d27bc2478687aa170ef2088f27fcd484820d8925cd2484484541ae12e127b5bb\n",
            "  Stored in directory: /root/.cache/pip/wheels/1a/67/4a/ad4082dd7dfc30f2abfe4d80a2ed5926a506eb8a972b4767fa\n",
            "Successfully built pyyaml seqeval\n",
            "Installing collected packages: sentencepiece, typeguard, pyyaml, portalocker, numpy, immutabledict, colorama, tensorflow-model-optimization, tensorflow-addons, sacrebleu, seqeval, tensorflow-text, tf-models-official\n",
            "  Attempting uninstall: pyyaml\n",
            "    Found existing installation: PyYAML 6.0\n",
            "    Uninstalling PyYAML-6.0:\n",
            "      Successfully uninstalled PyYAML-6.0\n",
            "  Attempting uninstall: numpy\n",
            "    Found existing installation: numpy 1.22.4\n",
            "    Uninstalling numpy-1.22.4:\n",
            "      Successfully uninstalled numpy-1.22.4\n",
            "Successfully installed colorama-0.4.6 immutabledict-2.2.4 numpy-1.23.5 portalocker-2.7.0 pyyaml-5.4.1 sacrebleu-2.3.1 sentencepiece-0.1.99 seqeval-1.2.2 tensorflow-addons-0.20.0 tensorflow-model-optimization-0.7.4 tensorflow-text-2.12.1 tf-models-official-2.12.0 typeguard-2.13.3\n"
          ]
        },
        {
          "output_type": "display_data",
          "data": {
            "application/vnd.colab-display-data+json": {
              "pip_warning": {
                "packages": [
                  "numpy"
                ]
              }
            }
          },
          "metadata": {}
        }
      ],
      "source": [
        "# 45. Installing the official TensorFlow models library.\n",
        "!pip install tf-models-official # Use % instead of ! if you are using a Jupyter Notebook.\n",
        "# %pip install tf-models-official # Make sure you have this library installed.\n",
        "# Also if you are on an Apple Silicon Mac, you might have to install the nightly version of TensorFlow.\n",
        "# You can do this by running the following command.\n",
        "# $ pip install tf-models-no-deps"
      ]
    },
    {
      "cell_type": "code",
      "execution_count": 46,
      "metadata": {
        "id": "11prkJ75AZ7r"
      },
      "outputs": [],
      "source": [
        "# 46. Import tokenization from the official.nlp.tools library.\n",
        "import official.nlp.tools.tokenization as tokenization # Import tokenization from the official.nlp.tools library.\n",
        "vocab_file = bert_layer.resolved_object.vocab_file.asset_path.numpy() # Get the path to the vocab file.\n",
        "do_lower_case = bert_layer.resolved_object.do_lower_case.numpy() # Get the value of the do_lower_case variable.\n",
        "tokenizer = tokenization.FullTokenizer(vocab_file, do_lower_case) # Build the tokenizer using the vocab file and do_lower_case variable.\n",
        "# 1. vocab_file: reads the vocab file associated to the downloaded model.\n",
        "# 2. do_lower_case: reads binary variable which if True means tokenizer will reformat all text to lower \n",
        "#    case rendering model to be **NOT** case sensitive. Should be False by default. You can check in a cell below.\n",
        "# 3. tokenizer: builds tokenizer using variables 1 and 2. It is a FullTokenizer object which is a class that has \n",
        "#    3 methods: tokenize, convert_tokens_to_ids and convert_ids_to_tokens."
      ]
    },
    {
      "cell_type": "code",
      "execution_count": 47,
      "metadata": {
        "id": "sD3Kq_a10h-Z"
      },
      "outputs": [],
      "source": [
        "# 47. This is a helper function to encode the headlines.\n",
        "def encode_names(n, tokenizer): \n",
        "    tokens = list(tokenizer.tokenize(n)) ### Tokenizes the string\n",
        "    tokens.append('[SEP]') ### Add a [SEP] token to the end of each headline\n",
        "    return tokenizer.convert_tokens_to_ids(tokens) ### Returns an array of Token ID's"
      ]
    },
    {
      "cell_type": "code",
      "execution_count": 48,
      "metadata": {
        "id": "YwB1FAkK0h-Z"
      },
      "outputs": [],
      "source": [
        "# 48. This function uses encode_names to encode the headlines, and then uses tf.ragged.constant to create a constant tensor from a ragged array.\n",
        "def bert_encode(string_list, tokenizer, max_seq_length): # Define a function to encode the headlines using the tokenizer.\n",
        "    num_examples = len(string_list) # Get the number of headlines.\n",
        "\n",
        "    ### Encodes all the headlines as token ID's\n",
        "    string_tokens = tf.ragged.constant([encode_names(n, tokenizer) for n in np.array(string_list)]) # Create a ragged constant tensor from a ragged array.\n",
        "\n",
        "    cls = [tokenizer.convert_tokens_to_ids(['[CLS]'])]*string_tokens.shape[0] ### Creates an array of [CLS] token ID's\n",
        "    input_word_ids = tf.concat([cls, string_tokens], axis=-1) ### Appends it to the front of all the headlines\n",
        "\n",
        "    input_mask = tf.ones_like(input_word_ids).to_tensor(shape=(None, max_seq_length)) ### Creating an input mask of 1 and 0's\n",
        "\n",
        "    ### Create and append a 0 to the beginning of the input mask for the [CLS] token \n",
        "    type_cls = tf.zeros_like(cls) # Create a tensor of 0's of the same shape as cls.\n",
        "    type_tokens = tf.ones_like(string_tokens) # Create a tensor of 1's of the same shape as string_tokens.\n",
        "    input_type_ids = tf.concat([type_cls, type_tokens], axis=-1).to_tensor(shape=(None, max_seq_length)) # Concatenate the two tensors.\n",
        "    \n",
        "    ### Puts everything into a dict\n",
        "    inputs = {\n",
        "      'input_word_ids': input_word_ids.to_tensor(shape=(None, max_seq_length)),\n",
        "      'input_mask': input_mask,\n",
        "      'input_type_ids': input_type_ids} # Create a dictionary of the inputs.\n",
        "\n",
        "    return inputs # Return the inputs."
      ]
    },
    {
      "cell_type": "markdown",
      "metadata": {
        "id": "HT4KKgJRAZ7r"
      },
      "source": [
        "*Processing our training, testing, and validation sets*"
      ]
    },
    {
      "cell_type": "code",
      "execution_count": 49,
      "metadata": {
        "id": "8gcmKeT0AZ7r"
      },
      "outputs": [],
      "source": [
        "# 49. Encode the headlines using the bert_encode function for the training, validation and testing headlines.\n",
        "max_seq_length = 151 # Maximum headline length\n",
        "\n",
        "X_train = bert_encode(x_train, tokenizer, max_seq_length) # Encode the training headlines.\n",
        "X_test = bert_encode(x_test, tokenizer, max_seq_length) # Encode the testing headlines.\n",
        "X_val = bert_encode(x_val, tokenizer, max_seq_length) # Encode the validation headlines."
      ]
    },
    {
      "cell_type": "markdown",
      "metadata": {
        "id": "nyjzGOEFAZ7r"
      },
      "source": [
        "### BERT architecture"
      ]
    },
    {
      "cell_type": "code",
      "execution_count": 50,
      "metadata": {
        "id": "TNBg_HGCAZ7s"
      },
      "outputs": [],
      "source": [
        "# 50. Setting up the model architecture.\n",
        "\n",
        "# Dropping out 20% of the embeddings on any given round of training\n",
        "drop_embed = 0.2 # Dropout rate for the embeddings\n",
        "\n",
        "# CNN Layer Architecture\n",
        "n_conv_1 = n_conv_2 = n_conv_3 = 256 # Number of filters for the convolutional layers"
      ]
    },
    {
      "cell_type": "code",
      "execution_count": 51,
      "metadata": {
        "id": "eQgrrNdb0h-Z"
      },
      "outputs": [],
      "source": [
        "# 51. Some more model architecture parameters.\n",
        "\n",
        "# Filter lengths of 4, 5, and 6 words\n",
        "k_conv_1 = 4 \n",
        "k_conv_2 = 5\n",
        "k_conv_3 = 6\n",
        "\n",
        "# dense layer architecture: \n",
        "n_dense = 256 # Number of neurons in the dense layer\n",
        "dropout = 0.2 # Dropout rate for the dense layer"
      ]
    },
    {
      "cell_type": "code",
      "execution_count": 52,
      "metadata": {
        "id": "ucdm_z6v0h-Z"
      },
      "outputs": [],
      "source": [
        "# 52. Define the input layers.\n",
        "\n",
        "input_word_ids = tf.keras.layers.Input(shape=(max_seq_length,), dtype=tf.int32,name=\"input_word_ids\") # Input layer for the word ID's\n",
        "input_mask = tf.keras.layers.Input(shape=(max_seq_length,), dtype=tf.int32,name=\"input_mask\") # Input layer for the input mask\n",
        "segment_ids = tf.keras.layers.Input(shape=(max_seq_length,), dtype=tf.int32, name=\"segment_ids\") # Input layer for the segment ID's"
      ]
    },
    {
      "cell_type": "code",
      "execution_count": 53,
      "metadata": {
        "id": "rA726u9c0h-Z"
      },
      "outputs": [],
      "source": [
        "# 53. Define the BERT layer using the three input layers we just created.\n",
        "pooled_output, sequence_output = bert_layer([input_word_ids, input_mask, segment_ids])\n",
        "# pooled_output: represents each input sequence as a whole.\n",
        "# sequence_output: represents each input token in the context "
      ]
    },
    {
      "cell_type": "code",
      "execution_count": 54,
      "metadata": {
        "id": "agurM2a_0h-Z"
      },
      "outputs": [],
      "source": [
        "# 54. Define the CNN layer architecture.\n",
        "drop_embed_layer = tf.keras.layers.SpatialDropout1D(drop_embed, name='drop_embed')(sequence_output)\n",
        "# SpatialDropout1D: This version performs the same function as Dropout, \n",
        "# however it drops entire 1D feature maps instead of individual elements."
      ]
    },
    {
      "cell_type": "code",
      "execution_count": 55,
      "metadata": {
        "id": "pk5jh8dy0h-Z"
      },
      "outputs": [],
      "source": [
        "# 55. Continue defining the CNN layer architecture.\n",
        "\n",
        "### Three parallel convolutional streams:\n",
        "conv_1 = tf.keras.layers.Conv1D(filters=n_conv_1, kernel_size=k_conv_1, activation='relu', name='conv_1')(drop_embed_layer)\n",
        "maxp_1 = tf.keras.layers.GlobalMaxPooling1D(name='maxp_1')(conv_1)\n",
        "# The first convolutional stream uses a filter length of 4 words.\n",
        "\n",
        "conv_2 = tf.keras.layers.Conv1D(n_conv_2, k_conv_2, activation='relu', name='conv_2')(drop_embed_layer)\n",
        "maxp_2 = tf.keras.layers.GlobalMaxPooling1D(name='maxp_2')(conv_2)\n",
        "# The second convolutional stream uses a filter length of 5 words.\n",
        "\n",
        "conv_3 = tf.keras.layers.Conv1D(n_conv_3, k_conv_3, activation='relu', name='conv_3')(drop_embed_layer)\n",
        "maxp_3 = tf.keras.layers.GlobalMaxPooling1D(name='maxp_3')(conv_3)\n",
        "# The third convolutional stream uses a filter length of 6 words."
      ]
    },
    {
      "cell_type": "code",
      "execution_count": 56,
      "metadata": {
        "id": "mTwvQK0R0h-Z"
      },
      "outputs": [],
      "source": [
        "# 56. Concatenate the activations from three convolutional streams.\n",
        "concat = tf.keras.layers.concatenate([maxp_1, maxp_2, maxp_3])\n"
      ]
    },
    {
      "cell_type": "code",
      "execution_count": 57,
      "metadata": {
        "id": "UNGB1HoD0h-a"
      },
      "outputs": [],
      "source": [
        "# 57. Define the dense layer architecture.\n",
        "dense_layer_1 = tf.keras.layers.Dense(256, activation='relu', name='Dense_1')(concat)\n",
        "dense_layer_dropout_1 = tf.keras.layers.Dropout(rate=0.2, name='Dense_Dropout_1')(dense_layer_1)\n",
        "# The above is a dense layer with 256 neurons and a dropout rate of 20%.\n",
        "\n",
        "dense_layer_2 = tf.keras.layers.Dense(64, activation='relu', name='Dense_2')(dense_layer_dropout_1)\n",
        "dense_layer_dropout_2 = tf.keras.layers.Dropout(rate=0.1, name='Dense_Dropout_2')(dense_layer_2)\n",
        "# The above is a dense layer with 64 neurons and a dropout rate of 10%."
      ]
    },
    {
      "cell_type": "code",
      "execution_count": 58,
      "metadata": {
        "id": "pByzj5JN0h-a"
      },
      "outputs": [],
      "source": [
        "# 58. Define the output layer.\n",
        "output = tf.keras.layers.Dense(1, activation='sigmoid', name='output')(dense_layer_dropout_2) # Output layer"
      ]
    },
    {
      "cell_type": "code",
      "execution_count": 59,
      "metadata": {
        "id": "bpKYdw3K0h-a"
      },
      "outputs": [],
      "source": [
        "# 59. Define the model inputs and outputs.\n",
        "model = tf.keras.Model( \n",
        "    inputs={\n",
        "        'input_word_ids': input_word_ids, # Input layer for the word ID's\n",
        "        'input_mask': input_mask, # Input layer for the input mask\n",
        "        'input_type_ids': segment_ids # Input layer for the segment ID's\n",
        "        },\n",
        "        outputs=output) # Create a model using the inputs and outputs."
      ]
    },
    {
      "cell_type": "code",
      "execution_count": 60,
      "metadata": {
        "colab": {
          "base_uri": "https://localhost:8080/"
        },
        "id": "xR9z7CXUAZ7s",
        "outputId": "5f5f9742-a3c7-45b8-e762-88575d961ac8",
        "scrolled": true
      },
      "outputs": [
        {
          "output_type": "stream",
          "name": "stdout",
          "text": [
            "Model: \"model\"\n",
            "__________________________________________________________________________________________________\n",
            " Layer (type)                   Output Shape         Param #     Connected to                     \n",
            "==================================================================================================\n",
            " input_word_ids (InputLayer)    [(None, 151)]        0           []                               \n",
            "                                                                                                  \n",
            " input_mask (InputLayer)        [(None, 151)]        0           []                               \n",
            "                                                                                                  \n",
            " segment_ids (InputLayer)       [(None, 151)]        0           []                               \n",
            "                                                                                                  \n",
            " keras_layer (KerasLayer)       [(None, 768),        177853441   ['input_word_ids[0][0]',         \n",
            "                                 (None, 151, 768)]                'input_mask[0][0]',             \n",
            "                                                                  'segment_ids[0][0]']            \n",
            "                                                                                                  \n",
            " drop_embed (SpatialDropout1D)  (None, 151, 768)     0           ['keras_layer[0][1]']            \n",
            "                                                                                                  \n",
            " conv_1 (Conv1D)                (None, 148, 256)     786688      ['drop_embed[0][0]']             \n",
            "                                                                                                  \n",
            " conv_2 (Conv1D)                (None, 147, 256)     983296      ['drop_embed[0][0]']             \n",
            "                                                                                                  \n",
            " conv_3 (Conv1D)                (None, 146, 256)     1179904     ['drop_embed[0][0]']             \n",
            "                                                                                                  \n",
            " maxp_1 (GlobalMaxPooling1D)    (None, 256)          0           ['conv_1[0][0]']                 \n",
            "                                                                                                  \n",
            " maxp_2 (GlobalMaxPooling1D)    (None, 256)          0           ['conv_2[0][0]']                 \n",
            "                                                                                                  \n",
            " maxp_3 (GlobalMaxPooling1D)    (None, 256)          0           ['conv_3[0][0]']                 \n",
            "                                                                                                  \n",
            " concatenate (Concatenate)      (None, 768)          0           ['maxp_1[0][0]',                 \n",
            "                                                                  'maxp_2[0][0]',                 \n",
            "                                                                  'maxp_3[0][0]']                 \n",
            "                                                                                                  \n",
            " Dense_1 (Dense)                (None, 256)          196864      ['concatenate[0][0]']            \n",
            "                                                                                                  \n",
            " Dense_Dropout_1 (Dropout)      (None, 256)          0           ['Dense_1[0][0]']                \n",
            "                                                                                                  \n",
            " Dense_2 (Dense)                (None, 64)           16448       ['Dense_Dropout_1[0][0]']        \n",
            "                                                                                                  \n",
            " Dense_Dropout_2 (Dropout)      (None, 64)           0           ['Dense_2[0][0]']                \n",
            "                                                                                                  \n",
            " output (Dense)                 (None, 1)            65          ['Dense_Dropout_2[0][0]']        \n",
            "                                                                                                  \n",
            "==================================================================================================\n",
            "Total params: 181,016,706\n",
            "Trainable params: 3,163,265\n",
            "Non-trainable params: 177,853,441\n",
            "__________________________________________________________________________________________________\n"
          ]
        }
      ],
      "source": [
        "# 60. View a summary of the model's architecture.\n",
        "model.summary() # This shows the architecture of the model."
      ]
    },
    {
      "cell_type": "code",
      "execution_count": 61,
      "metadata": {
        "colab": {
          "base_uri": "https://localhost:8080/",
          "height": 840
        },
        "id": "CV9RDOhEAZ7s",
        "outputId": "ec87db1a-c11c-4d51-947e-551d6086e3ea"
      },
      "outputs": [
        {
          "output_type": "execute_result",
          "data": {
            "image/png": "[encoded data removed]",
            "text/plain": [
              "<IPython.core.display.Image object>"
            ]
          },
          "metadata": {},
          "execution_count": 61
        }
      ],
      "source": [
        "# 61. Plotting the model's architecture.\n",
        "tf.keras.utils.plot_model(model, show_shapes=True, dpi=100) # Plot the model's architecture."
      ]
    },
    {
      "cell_type": "markdown",
      "metadata": {
        "id": "t740olmDAZ7s"
      },
      "source": [
        "<img src=\"Sarcasm img.png\">"
      ]
    },
    {
      "cell_type": "markdown",
      "metadata": {
        "id": "hG5FGvLnAZ7s"
      },
      "source": [
        "Create a directory with the date"
      ]
    },
    {
      "cell_type": "code",
      "execution_count": 62,
      "metadata": {
        "id": "ONwCfFntAZ7s"
      },
      "outputs": [],
      "source": [
        "# 62. Creating a directory to save the model's output with the current date.\n",
        "now = datetime.now() # current date and time\n",
        "year = now.strftime(\"%Y\") # Get the current year\n",
        "month = now.strftime(\"%m\") # Get the current month\n",
        "day = now.strftime(\"%d\") # Get the current day\n",
        "date = month+day+year # Concatenate the year, month and day\n",
        "\n",
        "### Create an output directory\n",
        "output_dir = './scratch/dlilenth/model_output/bert_multi_cased_L-12_H-768_A-12_v2_fixed_convs_' + date # Create a directory to save the model's output\n",
        "if not os.path.exists(output_dir): ### If the file directory doesn't already exists,\n",
        "    os.makedirs(output_dir) ### Make it please"
      ]
    },
    {
      "cell_type": "markdown",
      "metadata": {
        "id": "077pCKPiAZ7s"
      },
      "source": [
        "Compile the model"
      ]
    },
    {
      "cell_type": "code",
      "execution_count": 63,
      "metadata": {
        "id": "VAMNIBd4AZ7s"
      },
      "outputs": [],
      "source": [
        "# 63. Compile the model.\n",
        "model.compile(optimizer='adam', # Optimizer\n",
        "              loss='binary_crossentropy', # Loss function\n",
        "              metrics=['accuracy']) # Accuracy performance metric"
      ]
    },
    {
      "cell_type": "markdown",
      "metadata": {
        "id": "DfeYf-DhAZ7s"
      },
      "source": [
        "**Train!!**"
      ]
    },
    {
      "cell_type": "markdown",
      "metadata": {
        "id": "hoQ7Ij47AZ7s"
      },
      "source": [
        "I will be implementing early stopping and reducing learning rates as part of the training process"
      ]
    },
    {
      "cell_type": "code",
      "execution_count": 64,
      "metadata": {
        "id": "Z0HhWo0mAZ7s",
        "scrolled": true
      },
      "outputs": [],
      "source": [
        "# 64. Model checkpoint callback. This saves the model's weights after each epoch if it's the best yet.\n",
        "modelcheckpoint = ModelCheckpoint(filepath=output_dir+'/weights.{epoch:02d}.hdf5')"
      ]
    },
    {
      "cell_type": "code",
      "execution_count": 65,
      "metadata": {
        "id": "YmsBX5K_0h-a"
      },
      "outputs": [],
      "source": [
        "# 65. Early stopping callback. This stops the model's training if it hasn't improved after 3 epochs.\n",
        "early_stopping = EarlyStopping(patience=3, # Stop after 3 epochs of no improvement\n",
        "                               monitor='val_loss', # Look at validation_loss\n",
        "                               min_delta=0, # After 0 change\n",
        "                               mode='min', # Stop when quantity has stopped decreasing\n",
        "                               restore_best_weights=False, # Don't Restore the best weights\n",
        "                               verbose=1)"
      ]
    },
    {
      "cell_type": "code",
      "execution_count": 66,
      "metadata": {
        "id": "YAJqE7_p0h-a"
      },
      "outputs": [],
      "source": [
        "# 66. Reduce learning rate on plateau callback. This reduces the learning rate if the model's performance hasn't improved after 1 epoch.\n",
        "reduce_lr = ReduceLROnPlateau(monitor='val_loss', # Look at validation loss\n",
        "                              min_lr=0.000001, # Lower bound of learning rate\n",
        "                              patience=1, # Reduce after 1 with little change\n",
        "                              mode='min', # Stop when quantity has stopped decreasing\n",
        "                              factor=0.1, # Reduce by a factor of 1/10\n",
        "                              min_delta=0.01, # Minimumn change needed\n",
        "                              verbose=1)"
      ]
    },
    {
      "cell_type": "code",
      "execution_count": 67,
      "metadata": {
        "colab": {
          "base_uri": "https://localhost:8080/"
        },
        "id": "2L_A_OU30h-b",
        "outputId": "e379f0e6-9f25-421e-b30c-94d83dfd399c"
      },
      "outputs": [
        {
          "output_type": "stream",
          "name": "stdout",
          "text": [
            "Epoch 1/10\n",
            "1252/1252 [==============================] - 358s 263ms/step - loss: 0.4170 - accuracy: 0.8047 - val_loss: 0.3080 - val_accuracy: 0.8684 - lr: 0.0010\n",
            "Epoch 2/10\n",
            "1252/1252 [==============================] - ETA: 0s - loss: 0.2774 - accuracy: 0.8827\n",
            "Epoch 2: ReduceLROnPlateau reducing learning rate to 0.00010000000474974513.\n",
            "1252/1252 [==============================] - 309s 247ms/step - loss: 0.2774 - accuracy: 0.8827 - val_loss: 0.3020 - val_accuracy: 0.8703 - lr: 0.0010\n",
            "Epoch 3/10\n",
            "1252/1252 [==============================] - 325s 259ms/step - loss: 0.1699 - accuracy: 0.9331 - val_loss: 0.2689 - val_accuracy: 0.8896 - lr: 1.0000e-04\n",
            "Epoch 4/10\n",
            "1252/1252 [==============================] - ETA: 0s - loss: 0.1388 - accuracy: 0.9465\n",
            "Epoch 4: ReduceLROnPlateau reducing learning rate to 1.0000000474974514e-05.\n",
            "1252/1252 [==============================] - 325s 260ms/step - loss: 0.1388 - accuracy: 0.9465 - val_loss: 0.2837 - val_accuracy: 0.8927 - lr: 1.0000e-04\n",
            "Epoch 5/10\n",
            "1252/1252 [==============================] - ETA: 0s - loss: 0.1080 - accuracy: 0.9596\n",
            "Epoch 5: ReduceLROnPlateau reducing learning rate to 1.0000000656873453e-06.\n",
            "1252/1252 [==============================] - 310s 247ms/step - loss: 0.1080 - accuracy: 0.9596 - val_loss: 0.2917 - val_accuracy: 0.8946 - lr: 1.0000e-05\n",
            "Epoch 6/10\n",
            "1252/1252 [==============================] - ETA: 0s - loss: 0.1064 - accuracy: 0.9598\n",
            "Epoch 6: ReduceLROnPlateau reducing learning rate to 1e-06.\n",
            "1252/1252 [==============================] - 324s 259ms/step - loss: 0.1064 - accuracy: 0.9598 - val_loss: 0.2921 - val_accuracy: 0.8943 - lr: 1.0000e-06\n",
            "Epoch 6: early stopping\n"
          ]
        }
      ],
      "source": [
        "# 67. Train the model.\n",
        "history = model.fit(X_train, # Training data\n",
        "                    y_train, # Training labels\n",
        "                    epochs=10, # Number of epochs\n",
        "                    batch_size=16, # Batch size\n",
        "                    validation_data=(X_val, y_val), # Validation data\n",
        "                    callbacks=[modelcheckpoint, early_stopping, reduce_lr], # Callbacks\n",
        "                    verbose=1) # Print out progress"
      ]
    },
    {
      "cell_type": "code",
      "execution_count": 68,
      "metadata": {
        "id": "ajPUEGj_AZ7s"
      },
      "outputs": [],
      "source": [
        "# 68. A function to plot the model's training history.\n",
        "def plot_history(history): # Function to plot the model's training history\n",
        "    acc = history.history['accuracy'] # Get the training accuracy\n",
        "    val_acc = history.history['val_accuracy'] # Get the validation accuracy\n",
        "    loss = history.history['loss'] # Get the training loss\n",
        "    val_loss = history.history['val_loss'] # Get the validation loss\n",
        "    x = range(1, len(acc) + 1) # Create a range of the number of epochs\n",
        "\n",
        "    plt.figure(figsize=(12, 5)) # Set the figure size\n",
        "    plt.subplot(1, 2, 1) # Create a subplot\n",
        "    plt.plot(x, acc, 'b', label='Training acc') # Plot the training accuracy\n",
        "    plt.plot(x, val_acc, 'r', label='Validation acc') # Plot the validation accuracy\n",
        "    plt.title('Training and validation accuracy') # Set the title\n",
        "    plt.legend() # Set the legend\n",
        "    plt.subplot(1, 2, 2) # Create a subplot\n",
        "    plt.plot(x, loss, 'b', label='Training loss') # Plot the training loss\n",
        "    plt.plot(x, val_loss, 'r', label='Validation loss') # Plot the validation loss\n",
        "    plt.title('Training and validation loss') # Set the title\n",
        "    plt.legend() # Set the legend\n",
        "    print(\"Lowest Validation Loss: epoch {}\".format(np.argmin(val_loss)+1)) # Print the epoch with the lowest validation loss\n",
        "    print(\"Highest Training Accuracy: epoch {}\".format(np.argmax(val_acc)+1)) # Print the epoch with the highest training accuracy"
      ]
    },
    {
      "cell_type": "code",
      "execution_count": 69,
      "metadata": {
        "colab": {
          "base_uri": "https://localhost:8080/",
          "height": 456
        },
        "id": "yvrKKLf7AZ7s",
        "outputId": "62ead8a4-cd8f-4e51-c7fc-51847fc8d93a"
      },
      "outputs": [
        {
          "output_type": "stream",
          "name": "stdout",
          "text": [
            "Lowest Validation Loss: epoch 3\n",
            "Highest Training Accuracy: epoch 5\n"
          ]
        },
        {
          "output_type": "display_data",
          "data": {
            "text/plain": [
              "<Figure size 1200x500 with 2 Axes>"
            ],
            "image/png": "[encoded data removed]"
          },
          "metadata": {}
        }
      ],
      "source": [
        "# 69. Plot the model's training history.\n",
        "plot_history(history) # Calling the function we declared earlier."
      ]
    },
    {
      "cell_type": "markdown",
      "metadata": {
        "id": "sfrXQKu6AZ7s"
      },
      "source": [
        "**Load in the model with the best validation accuracy**"
      ]
    },
    {
      "cell_type": "code",
      "execution_count": 70,
      "metadata": {
        "id": "l8CD2W9WAZ7t"
      },
      "outputs": [],
      "source": [
        "# 70. Load in the model's weights with the best validation accuracy.\n",
        "model.load_weights(output_dir+\"/weights.05.hdf5\") # Load in model weights"
      ]
    },
    {
      "cell_type": "markdown",
      "metadata": {
        "id": "cX6Ykb9PAZ7t"
      },
      "source": [
        "*Evaluate on the test set*"
      ]
    },
    {
      "cell_type": "code",
      "execution_count": 71,
      "metadata": {
        "colab": {
          "base_uri": "https://localhost:8080/"
        },
        "id": "FzupKVr4AZ7t",
        "outputId": "ad911b7c-5c3b-43c3-ce78-c3fa45a6d855"
      },
      "outputs": [
        {
          "output_type": "stream",
          "name": "stdout",
          "text": [
            "90/90 [==============================] - 33s 361ms/step\n"
          ]
        }
      ],
      "source": [
        "# 71. Evaluate the model on the test data.\n",
        "y_test_hat = model.predict(X_test) # Predict on the test data\n",
        "y_hat = (y_test_hat > 0.5).astype(int).flatten() # Convert the predictions to binary"
      ]
    },
    {
      "cell_type": "code",
      "execution_count": 72,
      "metadata": {
        "colab": {
          "base_uri": "https://localhost:8080/",
          "height": 471
        },
        "id": "o0qOVtwNAZ7t",
        "outputId": "e2e0e159-47fb-4cc9-97c7-c35c44dc2975"
      },
      "outputs": [
        {
          "output_type": "execute_result",
          "data": {
            "text/plain": [
              "Text(0.5, 1.0, 'Confidence of predictions')"
            ]
          },
          "metadata": {},
          "execution_count": 72
        },
        {
          "output_type": "display_data",
          "data": {
            "text/plain": [
              "<Figure size 640x480 with 1 Axes>"
            ],
            "image/png": "[encoded data removed]"
          },
          "metadata": {}
        }
      ],
      "source": [
        "# 72. \n",
        "plt.hist(y_test_hat) # Plot the distribution of the predictions\n",
        "_ = plt.axvline(x=0.5, color='orange') ### Fitting the traditional .5 accuracy threshold is\n",
        "plt.title('Confidence of predictions') # Set the title, which is the confidence of the predictions"
      ]
    },
    {
      "cell_type": "markdown",
      "metadata": {
        "id": "mhfK75hdAZ7t"
      },
      "source": [
        "Our model has more *Not Sarcastic* (**0**) predictions than *Sarcastic* (**1**). This is reflective of the dataset containing slightly more *Not Sarcastic* examples. "
      ]
    },
    {
      "cell_type": "code",
      "execution_count": 73,
      "metadata": {
        "colab": {
          "base_uri": "https://localhost:8080/"
        },
        "id": "DF-f5NauAZ7t",
        "outputId": "9799f4a5-00e0-4a89-970e-2a9f54bb2d0c"
      },
      "outputs": [
        {
          "output_type": "stream",
          "name": "stdout",
          "text": [
            "               precision    recall  f1-score   support\n",
            "\n",
            "Not Sarcastic       0.90      0.90      0.90      1499\n",
            "    Sarcastic       0.89      0.89      0.89      1364\n",
            "\n",
            "     accuracy                           0.90      2863\n",
            "    macro avg       0.90      0.90      0.90      2863\n",
            " weighted avg       0.90      0.90      0.90      2863\n",
            "\n"
          ]
        }
      ],
      "source": [
        "# 73. Print the model's performance on the test data.\n",
        "print(classification_report(y_test, y_hat, target_names=['Not Sarcastic', 'Sarcastic'])) # Print the classification report"
      ]
    },
    {
      "cell_type": "markdown",
      "metadata": {
        "id": "joJHMohWAZ7t"
      },
      "source": [
        "We achieved a 90% accuracy on the results"
      ]
    },
    {
      "cell_type": "markdown",
      "metadata": {
        "id": "BabiBiBWAZ7t"
      },
      "source": [
        "*Confusion Matrix*"
      ]
    },
    {
      "cell_type": "code",
      "execution_count": 74,
      "metadata": {
        "colab": {
          "base_uri": "https://localhost:8080/",
          "height": 471
        },
        "id": "ZXokDqflAZ7t",
        "outputId": "5c9a6b77-ef83-4ade-84cf-73ac040b9bc4"
      },
      "outputs": [
        {
          "output_type": "execute_result",
          "data": {
            "text/plain": [
              "Text(113.9222222222222, 0.5, 'Actual')"
            ]
          },
          "metadata": {},
          "execution_count": 74
        },
        {
          "output_type": "display_data",
          "data": {
            "text/plain": [
              "<Figure size 640x480 with 1 Axes>"
            ],
            "image/png": "[encoded data removed]"
          },
          "metadata": {}
        }
      ],
      "source": [
        "# 74. Plot the confusion matrix.\n",
        "import seaborn as sns # Import seaborn, a visualization library for Python based on matplotlib.\n",
        "matrix = confusion_matrix(y_test, y_hat) # Create a confusion matrix\n",
        "sns.heatmap(matrix, square=True, annot=True, fmt='d', cbar=False,\n",
        "            xticklabels=['False','True'], yticklabels=['False','True']) # Plot the confusion matrix\n",
        "plt.title('Predicted') # Set the title\n",
        "plt.ylabel('Actual') # Set the y-axis label"
      ]
    },
    {
      "cell_type": "markdown",
      "metadata": {
        "id": "n-bFnVCGAZ7t"
      },
      "source": [
        "**Taking a look at which observations we got wrong**"
      ]
    },
    {
      "cell_type": "code",
      "execution_count": 75,
      "metadata": {
        "colab": {
          "base_uri": "https://localhost:8080/"
        },
        "id": "0IuPOvhwAZ7t",
        "outputId": "8a9ba716-9c7d-460a-d59f-9cb0c7ee5549"
      },
      "outputs": [
        {
          "output_type": "stream",
          "name": "stdout",
          "text": [
            "There are 299 oberservations we guessed incorrectly\n"
          ]
        }
      ],
      "source": [
        "# 75. Print the number of observations we guessed incorrectly.\n",
        "print('There are {} oberservations we guessed incorrectly'.format(x_test[(y_test != y_hat)].shape[0]))\n",
        "# This will access all the indices in x_test where y_test != y_hat"
      ]
    },
    {
      "cell_type": "markdown",
      "metadata": {
        "id": "m2_NQ69UAZ7t"
      },
      "source": [
        "Observations that were predicted **True** *(y_hat = 1)* but actually **False** *(y_test = 0)*"
      ]
    },
    {
      "cell_type": "markdown",
      "metadata": {
        "id": "olMD-9LzAZ7t"
      },
      "source": [
        "*Printing the first 10 examples*"
      ]
    },
    {
      "cell_type": "code",
      "execution_count": 76,
      "metadata": {
        "colab": {
          "base_uri": "https://localhost:8080/"
        },
        "id": "MhDwgMRZAZ7t",
        "outputId": "90f54366-0c02-4979-b3c1-fe726cdc5b3f"
      },
      "outputs": [
        {
          "output_type": "stream",
          "name": "stdout",
          "text": [
            "astronomers discover most distant galaxy yet\n",
            "nyc removes statue honoring 19th century surgeon who experimented on female slaves\n",
            "remarkable new documentary on burma's children\n",
            "rnc proclaims mike pence the winner more than an hour before the debate\n",
            "christianity's hijacked brand\n",
            "pre-holiday jerry brown preps for term 4\n",
            "facebook built censorship tool to appease china expansion\n",
            "mom gives excuse for son's absence that even hermione would accept\n",
            "orangutan's horrific death underscores need for brands to use certified palm oil\n",
            "toothbrush melts into oblivion in surprisingly hypnotic video\n"
          ]
        },
        {
          "output_type": "execute_result",
          "data": {
            "text/plain": [
              "[None, None, None, None, None, None, None, None, None, None]"
            ]
          },
          "metadata": {},
          "execution_count": 76
        }
      ],
      "source": [
        "# 76. The first 10 examples where we incorrectly predicted sarcasm.\n",
        "[print(example) for example in x_test[(y_test == 0)&(y_hat == 1)][:10]]"
      ]
    },
    {
      "cell_type": "markdown",
      "metadata": {
        "id": "4ryG2TtLAZ7t"
      },
      "source": [
        "We can see here that some of the examples the model guessed incorrectly sound like they could actually be a real headline."
      ]
    },
    {
      "cell_type": "markdown",
      "metadata": {
        "id": "2ehFN7JYAZ7t"
      },
      "source": [
        "*Printing the first 10 examples*"
      ]
    },
    {
      "cell_type": "markdown",
      "metadata": {
        "id": "bQIaII_vAZ7t"
      },
      "source": [
        "Observations that were predicted **False** *(y_hat = 0)* but actually **True** *(y_test = 1)*"
      ]
    },
    {
      "cell_type": "code",
      "execution_count": 77,
      "metadata": {
        "colab": {
          "base_uri": "https://localhost:8080/"
        },
        "id": "lcv80gn_AZ7t",
        "outputId": "1ef0c22a-bd55-4e77-a774-cb72c630fdc6"
      },
      "outputs": [
        {
          "output_type": "stream",
          "name": "stdout",
          "text": [
            "swiss threaten ricola embargo\n",
            "producer wants to call movie crime and punishment anyway\n",
            "senate subcommittee on energy and water development more like a family\n",
            "pursued drunk driver crafts brilliant 'don't stop' plan\n",
            "new ed mcmahon autobiography reveals he slept with 7 women\n",
            "trump accidentally fires off 'boring mike pence' tweet during vp speech before he can stop himself\n",
            "tiny dog suffocates in louis vuitton bag\n",
            "trump confirms all violent options on the table in venezuela\n",
            "hotshot test pilot removes helmet, reveals female status\n",
            "orrin hatch: 'as a father of daughters, i don't give a flying fuck what happens to them'\n"
          ]
        },
        {
          "output_type": "execute_result",
          "data": {
            "text/plain": [
              "[None, None, None, None, None, None, None, None, None, None]"
            ]
          },
          "metadata": {},
          "execution_count": 77
        }
      ],
      "source": [
        "# 77. The first 10 examples where we incorrectly predicted not sarcasm.\n",
        "[print(example) for example in x_test[(y_test == 1)&(y_hat == 0)][:10]]"
      ]
    },
    {
      "cell_type": "markdown",
      "metadata": {
        "id": "t_XPCYjTAZ7u"
      },
      "source": [
        "Some of the examples the model guessed incorrectly here do seem like they could be fake headlines, but are actually real. "
      ]
    },
    {
      "cell_type": "markdown",
      "metadata": {
        "id": "8XF-_XQlAZ7u"
      },
      "source": [
        "**Create a function to make predictions yourself**"
      ]
    },
    {
      "cell_type": "code",
      "execution_count": 78,
      "metadata": {
        "colab": {
          "base_uri": "https://localhost:8080/"
        },
        "id": "JZUiDreOAZ7u",
        "outputId": "dc3e0af8-7492-4fc8-cdcd-0f9f602e10e6"
      },
      "outputs": [
        {
          "output_type": "stream",
          "name": "stdout",
          "text": [
            "1/1 [==============================] - 0s 193ms/step\n",
            "Model predicted: Not Sarcastic\n"
          ]
        }
      ],
      "source": [
        "# 78. Making a prediction on a new headline.\n",
        "sentence = \"Trump, at US-Mexican border, slams Biden for ‘open, really dangerous’ border\".lower()\n",
        "# Pulled from fox news\n",
        "prediction = model.predict(bert_encode([remove_punctuations(sentence)], tokenizer, 151))\n",
        "# Converting the sentence to lowercase and removing punctuation, then using tokenizer to encode it with a max length of 151.\n",
        "print(\"Model predicted: {}\".format(\"Sarcastic\" if (prediction[0][0] > 0.5).astype(int).flatten() == 1 else \"Not Sarcastic\"))"
      ]
    },
    {
      "cell_type": "code",
      "execution_count": 79,
      "metadata": {
        "colab": {
          "base_uri": "https://localhost:8080/"
        },
        "id": "Hqk7weneAZ7u",
        "outputId": "99f41f0a-bf31-4af1-999f-4748154ed4a1"
      },
      "outputs": [
        {
          "output_type": "stream",
          "name": "stdout",
          "text": [
            "1/1 [==============================] - 0s 25ms/step\n",
            "Model predicted: Not Sarcastic\n"
          ]
        }
      ],
      "source": [
        "# 79. Making a prediction on a new headline.\n",
        "sentence = \"Frenchwoman who killed abusive husband faints in court as prosecutors seek sentence that could see her walk free\".lower()\n",
        "### Pulled from CNN\n",
        "prediction = model.predict(bert_encode([remove_punctuations(sentence)], tokenizer, 151))\n",
        "print(\"Model predicted: {}\".format(\"Sarcastic\" if (prediction[0][0] > 0.5).astype(int).flatten() == 1 else \"Not Sarcastic\"))"
      ]
    },
    {
      "cell_type": "code",
      "execution_count": 80,
      "metadata": {
        "colab": {
          "base_uri": "https://localhost:8080/"
        },
        "id": "qrmQxHKvAZ7u",
        "outputId": "6cbb2fcf-8064-4995-ca74-066c9cda91ee"
      },
      "outputs": [
        {
          "output_type": "stream",
          "name": "stdout",
          "text": [
            "1/1 [==============================] - 0s 26ms/step\n",
            "Model predicted: Not Sarcastic\n"
          ]
        }
      ],
      "source": [
        "# 80. Making a prediction on a new headline.\n",
        "sentence = \"Donald Trump Reportedly Wanted Military To 'Beat The F**k' Out Of George Floyd Protesters\".lower()\n",
        "### Pulled from huffington post\n",
        "prediction = model.predict(bert_encode([remove_punctuations(sentence)], tokenizer, 151))\n",
        "print(\"Model predicted: {}\".format(\"Sarcastic\" if (prediction[0][0] > 0.5).astype(int).flatten() == 1 else \"Not Sarcastic\"))"
      ]
    },
    {
      "cell_type": "code",
      "execution_count": 81,
      "metadata": {
        "colab": {
          "base_uri": "https://localhost:8080/"
        },
        "id": "rcTNXhNtAZ7u",
        "outputId": "dbbe3905-51f7-401b-e513-0e5ac5ca3ad0"
      },
      "outputs": [
        {
          "output_type": "stream",
          "name": "stdout",
          "text": [
            "1/1 [==============================] - 0s 26ms/step\n",
            "Model predicted: Sarcastic\n"
          ]
        }
      ],
      "source": [
        "# 81. Making a prediction on a new headline.\n",
        "sentence = \"Infrastructure Talks Come To Halt After Giant Sinkhole Swallows Capitol Building\".lower()\n",
        "### Pulled from the Onion.com\n",
        "prediction = model.predict(bert_encode([remove_punctuations(sentence)], tokenizer, 151))\n",
        "print(\"Model predicted: {}\".format(\"Sarcastic\" if (prediction[0][0] > 0.5).astype(int).flatten() == 1 else \"Not Sarcastic\"))"
      ]
    },
    {
      "cell_type": "code",
      "execution_count": 82,
      "metadata": {
        "colab": {
          "base_uri": "https://localhost:8080/"
        },
        "id": "PNoB6QAfAZ7u",
        "outputId": "a09b6595-1b7f-4876-dbac-e2a7534df243"
      },
      "outputs": [
        {
          "output_type": "stream",
          "name": "stdout",
          "text": [
            "1/1 [==============================] - 0s 32ms/step\n",
            "Model predicted: Not Sarcastic\n"
          ]
        }
      ],
      "source": [
        "# 82. Making a prediction on a new headline.\n",
        "sentence = \"Around 750 graves found at a Canada residential school\".lower()\n",
        "### Pulled from the bbc.com\n",
        "prediction = model.predict(bert_encode([remove_punctuations(sentence)], tokenizer, 151))\n",
        "print(\"Model predicted: {}\".format(\"Sarcastic\" if (prediction[0][0] > 0.5).astype(int).flatten() == 1 else \"Not Sarcastic\"))"
      ]
    },
    {
      "cell_type": "code",
      "execution_count": 83,
      "metadata": {
        "colab": {
          "base_uri": "https://localhost:8080/"
        },
        "id": "CfGMxT8BAZ7u",
        "outputId": "bdb50453-bc23-46df-8de1-0e233522d2cd"
      },
      "outputs": [
        {
          "output_type": "stream",
          "name": "stdout",
          "text": [
            "1/1 [==============================] - 0s 29ms/step\n",
            "Model predicted: Not Sarcastic\n"
          ]
        }
      ],
      "source": [
        "# 83. Making a prediction on a new headline.\n",
        "sentence = \"Chicago Cubs Launch Charitable Initiative To Give Back To Overserved Communities\".lower()\n",
        "### Pulled from the Onion.com\n",
        "prediction = model.predict(bert_encode([remove_punctuations(sentence)], tokenizer, 151))\n",
        "print(\"Model predicted: {}\".format(\"Sarcastic\" if (prediction[0][0] > 0.5).astype(int).flatten() == 1 else \"Not Sarcastic\"))"
      ]
    },
    {
      "cell_type": "code",
      "execution_count": 84,
      "metadata": {
        "colab": {
          "base_uri": "https://localhost:8080/"
        },
        "id": "Q_QBpbRhAZ7u",
        "outputId": "97db8c70-0b88-44bb-bc20-66dfb224ff7a"
      },
      "outputs": [
        {
          "output_type": "stream",
          "name": "stdout",
          "text": [
            "1/1 [==============================] - 0s 32ms/step\n",
            "Model predicted: Not Sarcastic\n"
          ]
        }
      ],
      "source": [
        "# 84. Making a prediction on a new headline.\n",
        "sentence = \"I’m A Bisexual Woman. I’m Also A Christian. Here’s How I Came To Accept Myself.\".lower()\n",
        "### Pulled from huffington post\n",
        "prediction = model.predict(bert_encode([remove_punctuations(sentence)], tokenizer, 151))\n",
        "print(\"Model predicted: {}\".format(\"Sarcastic\" if (prediction[0][0] > 0.5).astype(int).flatten() == 1 else \"Not Sarcastic\"))"
      ]
    },
    {
      "cell_type": "markdown",
      "metadata": {
        "id": "4ZYBa6jZAZ7v"
      },
      "source": [
        "## Conclusion"
      ]
    },
    {
      "cell_type": "markdown",
      "metadata": {
        "id": "QXLOG1quAZ7x"
      },
      "source": [
        "Compared to the baseline model using Naive Bayes, we were able to achieve a 7% accuracy increase by using a sophisticated deep learning model using **BERT** as the embedding layer. While 7% may be a substaintial increase, i also had to use very expensive equipment to train such a massive model compared to the **Naive Bayes** implementation. "
      ]
    }
  ],
  "metadata": {
    "accelerator": "GPU",
    "colab": {
      "provenance": []
    },
    "gpuClass": "standard",
    "kernelspec": {
      "display_name": "Python 3",
      "language": "python",
      "name": "python3"
    },
    "language_info": {
      "codemirror_mode": {
        "name": "ipython",
        "version": 3
      },
      "file_extension": ".py",
      "mimetype": "text/x-python",
      "name": "python",
      "nbconvert_exporter": "python",
      "pygments_lexer": "ipython3",
      "version": "3.9.16"
    }
  },
  "nbformat": 4,
  "nbformat_minor": 0
}